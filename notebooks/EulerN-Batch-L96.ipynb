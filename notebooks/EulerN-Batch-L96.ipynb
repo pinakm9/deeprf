{
 "cells": [
  {
   "cell_type": "code",
   "execution_count": 28,
   "id": "4e736d7c-ed73-4a2f-bc17-115eb937027a",
   "metadata": {},
   "outputs": [],
   "source": [
    "import os, sys \n",
    "from pathlib import Path\n",
    "from os.path import dirname, realpath\n",
    "script_dir = Path(dirname(realpath('.')))\n",
    "module_dir = str(script_dir)\n",
    "sys.path.insert(0, module_dir + '/modules')\n",
    "import numpy as np\n",
    "import utility as ut\n",
    "import matplotlib.pyplot as plt\n",
    "import pandas as pd\n",
    "import warnings\n",
    "from scipy import stats\n",
    "import seaborn as sns\n",
    "import eulerN as arch \n",
    "import torch\n",
    "from torch import nn\n",
    "# warnings.filterwarnings('ignore')"
   ]
  },
  {
   "cell_type": "code",
   "execution_count": 29,
   "id": "7d73941f-4c78-4591-b411-e6db8a481a47",
   "metadata": {},
   "outputs": [],
   "source": [
    "Vo = np.load('../data/L96-trajectories/test.npy')[:, :, :221]\n",
    "L0, L1 = 0.4, 3.5\n",
    "beta = 3e-9\n",
    "training_points = 100000\n",
    "n_repeats = 100\n",
    "tau_f_kwargs = {'error_threshold' : 0.5, 'dt': 0.01, 'Lyapunov_time': 1/2.27}"
   ]
  },
  {
   "cell_type": "code",
   "execution_count": 30,
   "id": "93fd1330-d493-4371-9531-dc0c1e9f53d8",
   "metadata": {},
   "outputs": [
    {
     "name": "stdout",
     "output_type": "stream",
     "text": [
      "Running experiments for batch 0...\n",
      "Time taken = 5.50E+01s\n",
      "Running experiments for batch 1...\n",
      "Time taken = 5.58E+01s\n",
      "Running experiments for batch 2...\n",
      "Time taken = 5.83E+01s\n",
      "Running experiments for batch 3...\n",
      "Time taken = 5.56E+01s\n",
      "Running experiments for batch 4...\n",
      "Time taken = 5.66E+01s\n",
      "Running experiments for batch 5...\n",
      "Time taken = 5.72E+01s\n",
      "Running experiments for batch 6...\n",
      "Time taken = 6.23E+01s\n",
      "Running experiments for batch 7...\n",
      "Time taken = 5.73E+01s\n",
      "Running experiments for batch 8...\n",
      "Time taken = 5.90E+01s\n",
      "Running experiments for batch 9...\n",
      "Time taken = 5.78E+01s\n",
      "Time taken by run is 574.7613 seconds\n"
     ]
    }
   ],
   "source": [
    "D_r, B, batch_size, normalize = 1024, 5, 10, False\n",
    "Uo = np.load(f'../data/L96-trajectories/train{B}.npy')\n",
    "drf_args = [D_r, B, L0, L1, Uo, beta, 'EulerN', f\"../data/EulerN/L96/depth-{B}/D_r-{D_r}{'' if not normalize else '-normalized'}\", normalize]\n",
    "batch = arch.BatchDeepRF(Uo, Vo, *drf_args)\n",
    "batch.run(training_points, n_repeats, batch_size, **tau_f_kwargs)"
   ]
  },
  {
   "cell_type": "code",
   "execution_count": 32,
   "id": "e018bb9a-71da-4a35-a6d8-016249f8d179",
   "metadata": {},
   "outputs": [
    {
     "data": {
      "image/png": "[encoded data removed]",
      "text/plain": [
       "<Figure size 500x500 with 1 Axes>"
      ]
     },
     "metadata": {},
     "output_type": "display_data"
    }
   ],
   "source": [
    "fig = plt.figure(figsize=(5, 5))\n",
    "ax = fig.add_subplot(111)\n",
    "tau_f = batch.get_data()['tau_f_nmse']\n",
    "sns.histplot(tau_f, ax=ax, label=r'$\\mathbb{E}[VPT]$'+f'={tau_f.mean():.2f}', alpha=0.7, stat='probability')\n",
    "ax.legend()\n",
    "ax.set_xlabel('')\n",
    "ax.set_ylabel('')\n",
    "ax.set_title(fr'architecture=EulerN, $D_r$={D_r}, depth={batch.drf.net.B}')\n",
    "plt.savefig(f'{batch.drf.save_folder}/tau_f_nmse.png', bbox_inches='tight', dpi=300)"
   ]
  },
  {
   "cell_type": "code",
   "execution_count": null,
   "id": "2aa2995d-4088-44cb-b996-06ec13f7f29e",
   "metadata": {},
   "outputs": [],
   "source": []
  },
  {
   "cell_type": "code",
   "execution_count": null,
   "id": "1de78194-072b-44b2-a74d-2bc2f5c23cf7",
   "metadata": {},
   "outputs": [],
   "source": []
  }
 ],
 "metadata": {
  "kernelspec": {
   "display_name": "Python 3 (ipykernel)",
   "language": "python",
   "name": "python3"
  },
  "language_info": {
   "codemirror_mode": {
    "name": "ipython",
    "version": 3
   },
   "file_extension": ".py",
   "mimetype": "text/x-python",
   "name": "python",
   "nbconvert_exporter": "python",
   "pygments_lexer": "ipython3",
   "version": "3.11.5"
  }
 },
 "nbformat": 4,
 "nbformat_minor": 5
}

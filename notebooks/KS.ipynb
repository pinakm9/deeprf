{
 "cells": [
  {
   "cell_type": "code",
   "execution_count": 1,
   "id": "8ce9a599",
   "metadata": {},
   "outputs": [],
   "source": [
    "# load necessary modules\n",
    "import numpy as np \n",
    "from scipy.integrate import odeint\n",
    "import os, sys \n",
    "from pathlib import Path\n",
    "from os.path import dirname, realpath\n",
    "script_dir = Path(dirname(realpath('.')))\n",
    "module_dir = str(script_dir)\n",
    "sys.path.insert(0, module_dir + '/modules')\n",
    "import utility as ut\n",
    "import matplotlib.pyplot as plt\n",
    "from joblib import Parallel, delayed\n",
    "import time\n",
    "import KS\n",
    "\n",
    "save_folder='../data/KS-trajectories'\n",
    "\n",
    "@ut.timer\n",
    "def generate_data(i, N_data):\n",
    "    # define data and initialize simulation\n",
    "    L    = 200\n",
    "    N    = 512\n",
    "    dt   = 0.25 / (i+1)\n",
    "    ninittransients = 10000\n",
    "    tend = 50000 + ninittransients  #50000\n",
    "    dns  = KS.KS(L=L, N=N, dt=dt, nsteps=N_data + ninittransients, tend=tend)\n",
    "    dl_max = 20000\n",
    "    pl_max = 20000\n",
    "    # simulate initial transient\n",
    "    dns.simulate()\n",
    "    # convert to physical space\n",
    "    dns.fou2real()\n",
    "    return dns.uu[ninittransients:]\n"
   ]
  },
  {
   "cell_type": "code",
   "execution_count": 6,
   "id": "c02b52c8-5f39-42ec-89a8-ae1698cf4e80",
   "metadata": {},
   "outputs": [
    {
     "name": "stdout",
     "output_type": "stream",
     "text": [
      "Time taken by simulate is 26.7176 seconds\n",
      "Time taken by generate_data is 30.3343 seconds\n"
     ]
    },
    {
     "data": {
      "text/plain": [
       "(500, 512, 1000)"
      ]
     },
     "execution_count": 6,
     "metadata": {},
     "output_type": "execute_result"
    }
   ],
   "source": [
    "# generate test data\n",
    "u_test = generate_data(0, int(500*1000))\n",
    "test = u_test[1:].reshape(500,-1, 512)\n",
    "test = np.moveaxis(test, -1, -2)\n",
    "np.random.shuffle(test)\n",
    "np.save('{}/{}.npy'.format(save_folder, f'test'), test)\n",
    "test.shape"
   ]
  },
  {
   "cell_type": "code",
   "execution_count": 4,
   "id": "f23e6c25-f771-4f75-86c2-c71b26d5e037",
   "metadata": {},
   "outputs": [
    {
     "name": "stdout",
     "output_type": "stream",
     "text": [
      "Time taken by simulate is 11.0784 seconds\n",
      "Time taken by generate_data is 11.5839 seconds\n",
      "Time taken by simulate is 11.1970 seconds\n",
      "Time taken by generate_data is 11.6956 seconds\n",
      "Time taken by simulate is 10.9714 seconds\n",
      "Time taken by generate_data is 11.4772 seconds\n",
      "Time taken by simulate is 11.2015 seconds\n",
      "Time taken by generate_data is 11.7065 seconds\n",
      "Time taken by simulate is 11.1289 seconds\n",
      "Time taken by generate_data is 11.6378 seconds\n"
     ]
    }
   ],
   "source": [
    "# generate training data\n",
    "for i in [0, 1, 3, 7, 15]:\n",
    "    u = generate_data(i, int(2e5)).T\n",
    "    np.save('{}/{}.npy'.format(save_folder, f'train{i+1}'), u)"
   ]
  },
  {
   "cell_type": "code",
   "execution_count": 8,
   "id": "d5062433-22f1-49dd-936d-bd434f1455d8",
   "metadata": {},
   "outputs": [],
   "source": [
    "i = 0\n",
    "u = np.load('{}/{}.npy'.format(save_folder, f'train{i+1}'))"
   ]
  },
  {
   "cell_type": "code",
   "execution_count": 3,
   "id": "387fef16-ede1-4446-8484-00c18d1ccc1b",
   "metadata": {},
   "outputs": [
    {
     "data": {
      "text/plain": [
       "dtype('float64')"
      ]
     },
     "execution_count": 3,
     "metadata": {},
     "output_type": "execute_result"
    }
   ],
   "source": [
    "u.dtype"
   ]
  },
  {
   "cell_type": "code",
   "execution_count": 15,
   "id": "a9780cb2-4601-4c19-a5ee-71837e1396ae",
   "metadata": {},
   "outputs": [],
   "source": [
    "np.save('{}/{}.npy'.format(save_folder, f'test'), test)"
   ]
  },
  {
   "cell_type": "code",
   "execution_count": 17,
   "id": "7b7c9e3f-4ef9-4243-a21b-a0c4d2587e13",
   "metadata": {},
   "outputs": [],
   "source": [
    "np.random.shuffle(test)"
   ]
  },
  {
   "cell_type": "code",
   "execution_count": 18,
   "id": "dd8bf9f0-22c7-42f1-9d37-834dd51b6af8",
   "metadata": {},
   "outputs": [],
   "source": [
    "np.save('{}/{}.npy'.format(save_folder, f'test'), test[:500, :, :])"
   ]
  },
  {
   "cell_type": "code",
   "execution_count": 20,
   "id": "00642a12-5566-4916-8dd5-175dd149e840",
   "metadata": {},
   "outputs": [
    {
     "data": {
      "text/plain": [
       "array([[[-2.26854515e+00, -2.17145443e+00, -2.07884598e+00, ...,\n",
       "         -6.08896613e-01, -5.97859740e-01, -5.88010252e-01],\n",
       "        [-2.36316681e+00, -2.28098011e+00, -2.20200205e+00, ...,\n",
       "         -5.15246630e-01, -5.09794414e-01, -5.05712092e-01],\n",
       "        [-2.36526513e+00, -2.29930234e+00, -2.23551989e+00, ...,\n",
       "         -4.36226189e-01, -4.35150206e-01, -4.35517848e-01],\n",
       "        ...,\n",
       "        [-1.37795687e+00, -1.25995934e+00, -1.15035796e+00, ...,\n",
       "         -9.74174738e-01, -9.41478074e-01, -9.08797979e-01],\n",
       "        [-1.77363563e+00, -1.65717292e+00, -1.54796171e+00, ...,\n",
       "         -8.39642167e-01, -8.14677835e-01, -7.90218115e-01],\n",
       "        [-2.07260180e+00, -1.96355307e+00, -1.86038828e+00, ...,\n",
       "         -7.17235684e-01, -6.99605346e-01, -6.82872653e-01]],\n",
       "\n",
       "       [[-1.26261979e-01, -6.98286593e-02, -1.97832882e-02, ...,\n",
       "          8.00912201e-01,  7.18284369e-01,  6.42917573e-01],\n",
       "        [-1.51104867e-01, -1.02054760e-01, -5.96638918e-02, ...,\n",
       "          1.01456833e+00,  9.31222022e-01,  8.55024695e-01],\n",
       "        [-1.91432297e-01, -1.51078969e-01, -1.17607713e-01, ...,\n",
       "          1.23953032e+00,  1.15609443e+00,  1.07941318e+00],\n",
       "        ...,\n",
       "        [-1.71147287e-01, -1.00785464e-01, -3.57929170e-02, ...,\n",
       "          2.61115611e-01,  1.81988716e-01,  1.09061152e-01],\n",
       "        [-1.33946806e-01, -6.69123828e-02, -5.61547279e-03, ...,\n",
       "          4.22117054e-01,  3.41767758e-01,  2.68175244e-01],\n",
       "        [-1.19648620e-01, -5.72247207e-02, -8.79449770e-04, ...,\n",
       "          6.02610111e-01,  5.21049500e-01,  4.46609378e-01]],\n",
       "\n",
       "       [[ 1.20615089e+00,  1.09640622e+00,  9.81717110e-01, ...,\n",
       "          2.15216470e+00,  2.25942492e+00,  2.32768369e+00],\n",
       "        [ 8.64460707e-01,  7.58352160e-01,  6.46593928e-01, ...,\n",
       "          1.85013163e+00,  2.00993323e+00,  2.13380456e+00],\n",
       "        [ 4.73736912e-01,  3.76449049e-01,  2.73266286e-01, ...,\n",
       "          1.48632026e+00,  1.69537997e+00,  1.87484455e+00],\n",
       "        ...,\n",
       "        [ 1.81562138e+00,  1.72289371e+00,  1.62964118e+00, ...,\n",
       "          2.60838175e+00,  2.57136083e+00,  2.50218511e+00],\n",
       "        [ 1.68807888e+00,  1.58571100e+00,  1.48103392e+00, ...,\n",
       "          2.53322887e+00,  2.53932595e+00,  2.50887871e+00],\n",
       "        [ 1.48385048e+00,  1.37553167e+00,  1.26340210e+00, ...,\n",
       "          2.38152337e+00,  2.43651223e+00,  2.45245981e+00]],\n",
       "\n",
       "       ...,\n",
       "\n",
       "       [[ 1.93749309e+00,  1.92397022e+00,  1.90245128e+00, ...,\n",
       "          1.17087662e-02,  2.11727619e-02,  3.01811546e-02],\n",
       "        [ 2.06992936e+00,  2.05705690e+00,  2.03527761e+00, ...,\n",
       "          1.94077924e-01,  2.04568550e-01,  2.14386269e-01],\n",
       "        [ 2.15596986e+00,  2.14204693e+00,  2.11863923e+00, ...,\n",
       "          3.64960730e-01,  3.77009630e-01,  3.88174951e-01],\n",
       "        ...,\n",
       "        [ 1.39217114e+00,  1.36766434e+00,  1.33910608e+00, ...,\n",
       "         -5.79396427e-01, -5.70782781e-01, -5.62069476e-01],\n",
       "        [ 1.58670688e+00,  1.56715250e+00,  1.54210043e+00, ...,\n",
       "         -3.77818823e-01, -3.69171232e-01, -3.60579193e-01],\n",
       "        [ 1.77225292e+00,  1.75644493e+00,  1.73380244e+00, ...,\n",
       "         -1.79731011e-01, -1.70844510e-01, -1.62203535e-01]],\n",
       "\n",
       "       [[-1.71716440e+00, -1.74150908e+00, -1.75682914e+00, ...,\n",
       "          1.45979166e-01,  1.09285727e-01,  7.48827606e-02],\n",
       "        [-1.62000227e+00, -1.66679239e+00, -1.70500994e+00, ...,\n",
       "          2.35480621e-01,  1.97525531e-01,  1.62626803e-01],\n",
       "        [-1.46839666e+00, -1.53395152e+00, -1.59169829e+00, ...,\n",
       "          3.45771968e-01,  3.07414919e-01,  2.72848308e-01],\n",
       "        ...,\n",
       "        [-1.58639383e+00, -1.52811897e+00, -1.46269190e+00, ...,\n",
       "         -6.57229125e-03, -3.42444927e-02, -6.17975146e-02],\n",
       "        [-1.70783043e+00, -1.67848492e+00, -1.64071059e+00, ...,\n",
       "          2.64952779e-02, -5.04145026e-03, -3.57816517e-02],\n",
       "        [-1.74935985e+00, -1.74802077e+00, -1.73766077e+00, ...,\n",
       "          7.67844915e-02,  4.22314554e-02,  9.20617580e-03]],\n",
       "\n",
       "       [[ 3.33443671e-01,  3.61051261e-01,  3.80903304e-01, ...,\n",
       "         -1.02244449e+00, -9.73984599e-01, -9.17541981e-01],\n",
       "        [ 2.86605150e-01,  3.03758740e-01,  3.15556407e-01, ...,\n",
       "         -9.55691576e-01, -9.00958955e-01, -8.39268744e-01],\n",
       "        [ 2.27457136e-01,  2.34076113e-01,  2.38077939e-01, ...,\n",
       "         -8.72836292e-01, -8.13352883e-01, -7.47858226e-01],\n",
       "        ...,\n",
       "        [ 3.68876100e-01,  4.21735644e-01,  4.62094247e-01, ...,\n",
       "         -1.13696551e+00, -1.11818659e+00, -1.08822751e+00],\n",
       "        [ 3.77243221e-01,  4.23149019e-01,  4.57705498e-01, ...,\n",
       "         -1.11155450e+00, -1.08095515e+00, -1.04021394e+00],\n",
       "        [ 3.64676863e-01,  4.02039230e-01,  4.29638147e-01, ...,\n",
       "         -1.07390738e+00, -1.03344154e+00, -9.83917177e-01]]],\n",
       "      dtype=float32)"
      ]
     },
     "execution_count": 20,
     "metadata": {},
     "output_type": "execute_result"
    }
   ],
   "source": [
    "test"
   ]
  },
  {
   "cell_type": "code",
   "execution_count": 12,
   "id": "c32020b1-6006-4e69-9f3e-498e6b0c5708",
   "metadata": {},
   "outputs": [
    {
     "data": {
      "text/plain": [
       "dtype('float64')"
      ]
     },
     "execution_count": 12,
     "metadata": {},
     "output_type": "execute_result"
    }
   ],
   "source": [
    "np.real(np.fft.ifft([0, 4, 0, 0])).dtype"
   ]
  },
  {
   "cell_type": "code",
   "execution_count": 25,
   "id": "05eb9a1d-597d-4a0c-af24-54796da1041c",
   "metadata": {},
   "outputs": [
    {
     "data": {
      "text/plain": [
       "(200, 3)"
      ]
     },
     "execution_count": 25,
     "metadata": {},
     "output_type": "execute_result"
    }
   ],
   "source": [
    "B = 4\n",
    "u = np.random.normal(size=(200, 3))\n",
    "v = np.random.normal(size=(200, 3)) \n",
    "u1 = u.reshape(-1, 3*B)\n",
    "u.shape"
   ]
  },
  {
   "cell_type": "code",
   "execution_count": 27,
   "id": "53e0c2a0-8026-41c2-aab0-5a5dad50f966",
   "metadata": {},
   "outputs": [
    {
     "data": {
      "text/plain": [
       "array([[-0.13386272,  0.15371307,  0.93080103],\n",
       "       [ 0.23913657,  0.67049533, -0.6439737 ],\n",
       "       [ 0.18181233, -1.41854032, -0.92043787],\n",
       "       [-0.3472285 , -0.42383813,  2.708355  ]])"
      ]
     },
     "execution_count": 27,
     "metadata": {},
     "output_type": "execute_result"
    }
   ],
   "source": [
    "u[:B]"
   ]
  },
  {
   "cell_type": "code",
   "execution_count": 28,
   "id": "984009f7-56fd-4465-b052-d2beb05d7fad",
   "metadata": {},
   "outputs": [
    {
     "data": {
      "text/plain": [
       "array([-0.13386272,  0.15371307,  0.93080103,  0.23913657,  0.67049533,\n",
       "       -0.6439737 ,  0.18181233, -1.41854032, -0.92043787, -0.3472285 ,\n",
       "       -0.42383813,  2.708355  ])"
      ]
     },
     "execution_count": 28,
     "metadata": {},
     "output_type": "execute_result"
    }
   ],
   "source": [
    "u1[0]"
   ]
  },
  {
   "cell_type": "code",
   "execution_count": 33,
   "id": "f81c36e5-6633-4d2b-a53f-467e46b54cd2",
   "metadata": {},
   "outputs": [],
   "source": [
    "from torch import nn \n",
    "import torch"
   ]
  },
  {
   "cell_type": "code",
   "execution_count": 36,
   "id": "7deeb65a-8c2d-4cfe-a486-04862a3ca118",
   "metadata": {},
   "outputs": [],
   "source": [
    "a = .__class__"
   ]
  },
  {
   "cell_type": "code",
   "execution_count": 38,
   "id": "6ea37f1f-e1cb-4699-b82b-907e2189f817",
   "metadata": {},
   "outputs": [
    {
     "data": {
      "text/plain": [
       "tensor([[0., 0., 0.],\n",
       "        [0., 0., 0.],\n",
       "        [0., 0., 0.],\n",
       "        [0., 0., 0.],\n",
       "        [0., 0., 0.],\n",
       "        [0., 0., 0.],\n",
       "        [0., 0., 0.],\n",
       "        [0., 0., 0.],\n",
       "        [0., 0., 0.],\n",
       "        [0., 0., 0.],\n",
       "        [0., 0., 0.],\n",
       "        [0., 0., 0.],\n",
       "        [0., 0., 0.],\n",
       "        [0., 0., 0.],\n",
       "        [0., 0., 0.],\n",
       "        [0., 0., 0.],\n",
       "        [0., 0., 0.],\n",
       "        [0., 0., 0.],\n",
       "        [0., 0., 0.],\n",
       "        [0., 0., 0.],\n",
       "        [0., 0., 0.],\n",
       "        [0., 0., 0.],\n",
       "        [0., 0., 0.],\n",
       "        [0., 0., 0.],\n",
       "        [0., 0., 0.],\n",
       "        [0., 0., 0.],\n",
       "        [0., 0., 0.],\n",
       "        [0., 0., 0.],\n",
       "        [0., 0., 0.],\n",
       "        [0., 0., 0.],\n",
       "        [0., 0., 0.],\n",
       "        [0., 0., 0.],\n",
       "        [0., 0., 0.],\n",
       "        [0., 0., 0.],\n",
       "        [0., 0., 0.],\n",
       "        [0., 0., 0.],\n",
       "        [0., 0., 0.],\n",
       "        [0., 0., 0.],\n",
       "        [0., 0., 0.],\n",
       "        [0., 0., 0.],\n",
       "        [0., 0., 0.],\n",
       "        [0., 0., 0.],\n",
       "        [0., 0., 0.],\n",
       "        [0., 0., 0.],\n",
       "        [0., 0., 0.],\n",
       "        [0., 0., 0.],\n",
       "        [0., 0., 0.],\n",
       "        [0., 0., 0.],\n",
       "        [0., 0., 0.],\n",
       "        [0., 0., 0.],\n",
       "        [0., 0., 0.],\n",
       "        [0., 0., 0.],\n",
       "        [0., 0., 0.],\n",
       "        [0., 0., 0.],\n",
       "        [0., 0., 0.],\n",
       "        [0., 0., 0.],\n",
       "        [0., 0., 0.],\n",
       "        [0., 0., 0.],\n",
       "        [0., 0., 0.],\n",
       "        [0., 0., 0.],\n",
       "        [0., 0., 0.],\n",
       "        [0., 0., 0.],\n",
       "        [0., 0., 0.],\n",
       "        [0., 0., 0.],\n",
       "        [0., 0., 0.],\n",
       "        [0., 0., 0.],\n",
       "        [0., 0., 0.],\n",
       "        [0., 0., 0.],\n",
       "        [0., 0., 0.],\n",
       "        [0., 0., 0.],\n",
       "        [0., 0., 0.],\n",
       "        [0., 0., 0.],\n",
       "        [0., 0., 0.],\n",
       "        [0., 0., 0.],\n",
       "        [0., 0., 0.],\n",
       "        [0., 0., 0.],\n",
       "        [0., 0., 0.],\n",
       "        [0., 0., 0.],\n",
       "        [0., 0., 0.],\n",
       "        [0., 0., 0.],\n",
       "        [0., 0., 0.],\n",
       "        [0., 0., 0.],\n",
       "        [0., 0., 0.],\n",
       "        [0., 0., 0.],\n",
       "        [0., 0., 0.],\n",
       "        [0., 0., 0.],\n",
       "        [0., 0., 0.],\n",
       "        [0., 0., 0.],\n",
       "        [0., 0., 0.],\n",
       "        [0., 0., 0.],\n",
       "        [0., 0., 0.],\n",
       "        [0., 0., 0.],\n",
       "        [0., 0., 0.],\n",
       "        [0., 0., 0.],\n",
       "        [0., 0., 0.],\n",
       "        [0., 0., 0.],\n",
       "        [0., 0., 0.],\n",
       "        [0., 0., 0.],\n",
       "        [0., 0., 0.],\n",
       "        [0., 0., 0.],\n",
       "        [0., 0., 0.],\n",
       "        [0., 0., 0.],\n",
       "        [0., 0., 0.],\n",
       "        [0., 0., 0.],\n",
       "        [0., 0., 0.],\n",
       "        [0., 0., 0.],\n",
       "        [0., 0., 0.],\n",
       "        [0., 0., 0.],\n",
       "        [0., 0., 0.],\n",
       "        [0., 0., 0.],\n",
       "        [0., 0., 0.],\n",
       "        [0., 0., 0.],\n",
       "        [0., 0., 0.],\n",
       "        [0., 0., 0.],\n",
       "        [0., 0., 0.],\n",
       "        [0., 0., 0.],\n",
       "        [0., 0., 0.],\n",
       "        [0., 0., 0.],\n",
       "        [0., 0., 0.],\n",
       "        [0., 0., 0.],\n",
       "        [0., 0., 0.],\n",
       "        [0., 0., 0.],\n",
       "        [0., 0., 0.],\n",
       "        [0., 0., 0.],\n",
       "        [0., 0., 0.],\n",
       "        [0., 0., 0.],\n",
       "        [0., 0., 0.],\n",
       "        [0., 0., 0.],\n",
       "        [0., 0., 0.],\n",
       "        [0., 0., 0.],\n",
       "        [0., 0., 0.],\n",
       "        [0., 0., 0.],\n",
       "        [0., 0., 0.],\n",
       "        [0., 0., 0.],\n",
       "        [0., 0., 0.],\n",
       "        [0., 0., 0.],\n",
       "        [0., 0., 0.],\n",
       "        [0., 0., 0.],\n",
       "        [0., 0., 0.],\n",
       "        [0., 0., 0.],\n",
       "        [0., 0., 0.],\n",
       "        [0., 0., 0.],\n",
       "        [0., 0., 0.],\n",
       "        [0., 0., 0.],\n",
       "        [0., 0., 0.],\n",
       "        [0., 0., 0.],\n",
       "        [0., 0., 0.],\n",
       "        [0., 0., 0.],\n",
       "        [0., 0., 0.],\n",
       "        [0., 0., 0.],\n",
       "        [0., 0., 0.],\n",
       "        [0., 0., 0.],\n",
       "        [0., 0., 0.],\n",
       "        [0., 0., 0.],\n",
       "        [0., 0., 0.],\n",
       "        [0., 0., 0.],\n",
       "        [0., 0., 0.],\n",
       "        [0., 0., 0.],\n",
       "        [0., 0., 0.],\n",
       "        [0., 0., 0.],\n",
       "        [0., 0., 0.],\n",
       "        [0., 0., 0.],\n",
       "        [0., 0., 0.],\n",
       "        [0., 0., 0.],\n",
       "        [0., 0., 0.],\n",
       "        [0., 0., 0.],\n",
       "        [0., 0., 0.],\n",
       "        [0., 0., 0.],\n",
       "        [0., 0., 0.],\n",
       "        [0., 0., 0.],\n",
       "        [0., 0., 0.],\n",
       "        [0., 0., 0.],\n",
       "        [0., 0., 0.],\n",
       "        [0., 0., 0.],\n",
       "        [0., 0., 0.],\n",
       "        [0., 0., 0.],\n",
       "        [0., 0., 0.],\n",
       "        [0., 0., 0.],\n",
       "        [0., 0., 0.],\n",
       "        [0., 0., 0.],\n",
       "        [0., 0., 0.],\n",
       "        [0., 0., 0.],\n",
       "        [0., 0., 0.],\n",
       "        [0., 0., 0.],\n",
       "        [0., 0., 0.],\n",
       "        [0., 0., 0.],\n",
       "        [0., 0., 0.],\n",
       "        [0., 0., 0.],\n",
       "        [0., 0., 0.],\n",
       "        [0., 0., 0.],\n",
       "        [0., 0., 0.],\n",
       "        [0., 0., 0.],\n",
       "        [0., 0., 0.],\n",
       "        [0., 0., 0.],\n",
       "        [0., 0., 0.],\n",
       "        [0., 0., 0.],\n",
       "        [0., 0., 0.],\n",
       "        [0., 0., 0.],\n",
       "        [0., 0., 0.],\n",
       "        [0., 0., 0.]], dtype=torch.float64, grad_fn=<SubBackward0>)"
      ]
     },
     "execution_count": 38,
     "metadata": {},
     "output_type": "execute_result"
    }
   ],
   "source": [
    "a(torch.tensor(u)) - nn.Parameter(torch.tensor(u))"
   ]
  },
  {
   "cell_type": "code",
   "execution_count": 40,
   "id": "504de070-09be-4db1-b94e-ef5babf207c2",
   "metadata": {},
   "outputs": [
    {
     "data": {
      "text/plain": [
       "1.9073486328125e-06"
      ]
     },
     "execution_count": 40,
     "metadata": {},
     "output_type": "execute_result"
    }
   ],
   "source": [
    "2**(-19)"
   ]
  },
  {
   "cell_type": "code",
   "execution_count": 41,
   "id": "96e2ba0f-c7ae-4f0a-9c5b-45d348ec12b0",
   "metadata": {},
   "outputs": [],
   "source": [
    "u = np.random.normal(size=(200, 3))"
   ]
  },
  {
   "cell_type": "code",
   "execution_count": 42,
   "id": "51171fe1-862c-472f-898a-345fd4d9c684",
   "metadata": {},
   "outputs": [],
   "source": [
    "v = np.array([e for i, e in enumerate(u) if i%4==0])"
   ]
  },
  {
   "cell_type": "code",
   "execution_count": 43,
   "id": "c9cc6657-b8be-4ba4-928a-4cbcf00d5c29",
   "metadata": {},
   "outputs": [
    {
     "data": {
      "text/plain": [
       "(50, 3)"
      ]
     },
     "execution_count": 43,
     "metadata": {},
     "output_type": "execute_result"
    }
   ],
   "source": [
    "v.shape"
   ]
  },
  {
   "cell_type": "code",
   "execution_count": 46,
   "id": "8a8852a9-d24a-43c5-853c-9e2a2013f893",
   "metadata": {},
   "outputs": [
    {
     "data": {
      "text/plain": [
       "182.0"
      ]
     },
     "execution_count": 46,
     "metadata": {},
     "output_type": "execute_result"
    }
   ],
   "source": [
    "0.91/(0.02/4)"
   ]
  },
  {
   "cell_type": "code",
   "execution_count": 47,
   "id": "52a6880d-2976-4a44-b639-70fd103d35ee",
   "metadata": {},
   "outputs": [
    {
     "data": {
      "text/plain": [
       "3640"
      ]
     },
     "execution_count": 47,
     "metadata": {},
     "output_type": "execute_result"
    }
   ],
   "source": [
    "182*20"
   ]
  },
  {
   "cell_type": "code",
   "execution_count": null,
   "id": "9e5ac658-4940-400f-ae43-58fedefd4a5e",
   "metadata": {},
   "outputs": [],
   "source": []
  }
 ],
 "metadata": {
  "kernelspec": {
   "display_name": "Python 3 (ipykernel)",
   "language": "python",
   "name": "python3"
  },
  "language_info": {
   "codemirror_mode": {
    "name": "ipython",
    "version": 3
   },
   "file_extension": ".py",
   "mimetype": "text/x-python",
   "name": "python",
   "nbconvert_exporter": "python",
   "pygments_lexer": "ipython3",
   "version": "3.11.5"
  }
 },
 "nbformat": 4,
 "nbformat_minor": 5
}

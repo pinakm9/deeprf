{
 "cells": [
  {
   "cell_type": "code",
   "execution_count": 13,
   "id": "8ce9a599",
   "metadata": {},
   "outputs": [
    {
     "name": "stdout",
     "output_type": "stream",
     "text": [
      "Time taken by simulate is 12.4794 seconds\n",
      "(230001, 512)\n",
      "Max N_train:\n",
      "230001\n",
      "Traing data shape: \n",
      "(100000, 512)\n",
      "(100000, 512)\n"
     ]
    }
   ],
   "source": [
    "# load necessary modules\n",
    "import numpy as np \n",
    "from scipy.integrate import odeint\n",
    "import os, sys \n",
    "from pathlib import Path\n",
    "from os.path import dirname, realpath\n",
    "script_dir = Path(dirname(realpath('.')))\n",
    "module_dir = str(script_dir)\n",
    "sys.path.insert(0, module_dir + '/modules')\n",
    "import utility as ut\n",
    "import matplotlib.pyplot as plt\n",
    "from joblib import Parallel, delayed\n",
    "import time\n",
    "import KS\n",
    "\n",
    "save_folder='../data/KS-trajectories'\n",
    "\n",
    "\n",
    "#------------------------------------------------------------------------------\n",
    "# define data and initialize simulation\n",
    "L    = 200/(2*np.pi)\n",
    "N    = 512\n",
    "dt   = 0.25\n",
    "ninittransients = 10000\n",
    "tend = 50000 + ninittransients  #50000\n",
    "dns  = KS.KS(L=L, N=N, dt=dt, tend=tend)\n",
    "\n",
    "\n",
    "N_data_train = 100000\n",
    "N_data_test = 100000\n",
    "dl_max = 20000\n",
    "pl_max = 20000\n",
    "\n",
    "\n",
    "#------------------------------------------------------------------------------\n",
    "# simulate initial transient\n",
    "dns.simulate()\n",
    "# convert to physical space\n",
    "dns.fou2real()\n",
    "\n",
    "\n",
    "u = dns.uu[ninittransients:]\n",
    "\n",
    "print(u.shape)\n",
    "\n",
    "N_train_max = int(u.shape[0])\n",
    "print('Max N_train:')\n",
    "print(N_train_max)\n",
    "\n",
    "\n",
    "\n",
    "[u_train, u_test, _] = np.split(u, [N_data_train, N_data_train+N_data_test], axis=0)\n",
    "print(\"Traing data shape: \")\n",
    "print(u_test.shape)\n",
    "print(u_train.shape)\n",
    "\n",
    "np.save('{}/{}.npy'.format(save_folder, f'train{1}'), u_train.T)"
   ]
  },
  {
   "cell_type": "code",
   "execution_count": 14,
   "id": "c02b52c8-5f39-42ec-89a8-ae1698cf4e80",
   "metadata": {},
   "outputs": [
    {
     "ename": "NameError",
     "evalue": "name 'generate_data' is not defined",
     "output_type": "error",
     "traceback": [
      "\u001b[0;31m---------------------------------------------------------------------------\u001b[0m",
      "\u001b[0;31mNameError\u001b[0m                                 Traceback (most recent call last)",
      "Cell \u001b[0;32mIn[14], line 2\u001b[0m\n\u001b[1;32m      1\u001b[0m \u001b[38;5;66;03m# generate test data\u001b[39;00m\n\u001b[0;32m----> 2\u001b[0m u_test \u001b[38;5;241m=\u001b[39m \u001b[43mgenerate_data\u001b[49m(\u001b[38;5;241m0\u001b[39m, \u001b[38;5;28mint\u001b[39m(\u001b[38;5;241m500\u001b[39m\u001b[38;5;241m*\u001b[39m\u001b[38;5;241m1000\u001b[39m))\n\u001b[1;32m      3\u001b[0m test \u001b[38;5;241m=\u001b[39m u_test[\u001b[38;5;241m1\u001b[39m:]\u001b[38;5;241m.\u001b[39mreshape(\u001b[38;5;241m500\u001b[39m,\u001b[38;5;241m-\u001b[39m\u001b[38;5;241m1\u001b[39m, \u001b[38;5;241m512\u001b[39m)\n\u001b[1;32m      4\u001b[0m test \u001b[38;5;241m=\u001b[39m np\u001b[38;5;241m.\u001b[39mmoveaxis(test, \u001b[38;5;241m-\u001b[39m\u001b[38;5;241m1\u001b[39m, \u001b[38;5;241m-\u001b[39m\u001b[38;5;241m2\u001b[39m)\n",
      "\u001b[0;31mNameError\u001b[0m: name 'generate_data' is not defined"
     ]
    }
   ],
   "source": [
    "# generate test data\n",
    "u_test = generate_data(0, int(500*1000))\n",
    "test = u_test[1:].reshape(500,-1, 512)\n",
    "test = np.moveaxis(test, -1, -2)\n",
    "np.random.shuffle(test)\n",
    "np.save('{}/{}.npy'.format(save_folder, f'test'), test)\n",
    "test.shape"
   ]
  },
  {
   "cell_type": "code",
   "execution_count": 5,
   "id": "f23e6c25-f771-4f75-86c2-c71b26d5e037",
   "metadata": {},
   "outputs": [
    {
     "name": "stdout",
     "output_type": "stream",
     "text": [
      "Time taken by simulate is 0.0157 seconds\n",
      "Time taken by generate_data is 0.0257 seconds\n"
     ]
    }
   ],
   "source": [
    "# generate training data\n",
    "for i in [0]:\n",
    "    u = generate_data(i, int(2e5)).T\n",
    "    np.save('{}/{}.npy'.format(save_folder, f'train{i+1}'), u)"
   ]
  },
  {
   "cell_type": "code",
   "execution_count": 8,
   "id": "d5062433-22f1-49dd-936d-bd434f1455d8",
   "metadata": {},
   "outputs": [],
   "source": [
    "i = 0\n",
    "u = np.load('{}/{}.npy'.format(save_folder, f'train{i+1}'))"
   ]
  },
  {
   "cell_type": "code",
   "execution_count": 3,
   "id": "387fef16-ede1-4446-8484-00c18d1ccc1b",
   "metadata": {},
   "outputs": [
    {
     "data": {
      "text/plain": [
       "dtype('float64')"
      ]
     },
     "execution_count": 3,
     "metadata": {},
     "output_type": "execute_result"
    }
   ],
   "source": [
    "u.dtype"
   ]
  },
  {
   "cell_type": "code",
   "execution_count": 15,
   "id": "a9780cb2-4601-4c19-a5ee-71837e1396ae",
   "metadata": {},
   "outputs": [],
   "source": [
    "np.save('{}/{}.npy'.format(save_folder, f'test'), test)"
   ]
  },
  {
   "cell_type": "code",
   "execution_count": 17,
   "id": "7b7c9e3f-4ef9-4243-a21b-a0c4d2587e13",
   "metadata": {},
   "outputs": [],
   "source": [
    "np.random.shuffle(test)"
   ]
  },
  {
   "cell_type": "code",
   "execution_count": 18,
   "id": "dd8bf9f0-22c7-42f1-9d37-834dd51b6af8",
   "metadata": {},
   "outputs": [],
   "source": [
    "np.save('{}/{}.npy'.format(save_folder, f'test'), test[:500, :, :])"
   ]
  },
  {
   "cell_type": "code",
   "execution_count": 6,
   "id": "00642a12-5566-4916-8dd5-175dd149e840",
   "metadata": {},
   "outputs": [
    {
     "data": {
      "text/plain": [
       "array([], shape=(512, 0), dtype=float64)"
      ]
     },
     "execution_count": 6,
     "metadata": {},
     "output_type": "execute_result"
    }
   ],
   "source": [
    "u"
   ]
  },
  {
   "cell_type": "code",
   "execution_count": 12,
   "id": "c32020b1-6006-4e69-9f3e-498e6b0c5708",
   "metadata": {},
   "outputs": [
    {
     "data": {
      "text/plain": [
       "dtype('float64')"
      ]
     },
     "execution_count": 12,
     "metadata": {},
     "output_type": "execute_result"
    }
   ],
   "source": [
    "np.real(np.fft.ifft([0, 4, 0, 0])).dtype"
   ]
  },
  {
   "cell_type": "code",
   "execution_count": 25,
   "id": "05eb9a1d-597d-4a0c-af24-54796da1041c",
   "metadata": {},
   "outputs": [
    {
     "data": {
      "text/plain": [
       "(200, 3)"
      ]
     },
     "execution_count": 25,
     "metadata": {},
     "output_type": "execute_result"
    }
   ],
   "source": [
    "B = 4\n",
    "u = np.random.normal(size=(200, 3))\n",
    "v = np.random.normal(size=(200, 3)) \n",
    "u1 = u.reshape(-1, 3*B)\n",
    "u.shape"
   ]
  },
  {
   "cell_type": "code",
   "execution_count": 27,
   "id": "53e0c2a0-8026-41c2-aab0-5a5dad50f966",
   "metadata": {},
   "outputs": [
    {
     "data": {
      "text/plain": [
       "array([[-0.13386272,  0.15371307,  0.93080103],\n",
       "       [ 0.23913657,  0.67049533, -0.6439737 ],\n",
       "       [ 0.18181233, -1.41854032, -0.92043787],\n",
       "       [-0.3472285 , -0.42383813,  2.708355  ]])"
      ]
     },
     "execution_count": 27,
     "metadata": {},
     "output_type": "execute_result"
    }
   ],
   "source": [
    "u[:B]"
   ]
  },
  {
   "cell_type": "code",
   "execution_count": 28,
   "id": "984009f7-56fd-4465-b052-d2beb05d7fad",
   "metadata": {},
   "outputs": [
    {
     "data": {
      "text/plain": [
       "array([-0.13386272,  0.15371307,  0.93080103,  0.23913657,  0.67049533,\n",
       "       -0.6439737 ,  0.18181233, -1.41854032, -0.92043787, -0.3472285 ,\n",
       "       -0.42383813,  2.708355  ])"
      ]
     },
     "execution_count": 28,
     "metadata": {},
     "output_type": "execute_result"
    }
   ],
   "source": [
    "u1[0]"
   ]
  },
  {
   "cell_type": "code",
   "execution_count": 33,
   "id": "f81c36e5-6633-4d2b-a53f-467e46b54cd2",
   "metadata": {},
   "outputs": [],
   "source": [
    "from torch import nn \n",
    "import torch"
   ]
  },
  {
   "cell_type": "code",
   "execution_count": 36,
   "id": "7deeb65a-8c2d-4cfe-a486-04862a3ca118",
   "metadata": {},
   "outputs": [],
   "source": [
    "a = .__class__"
   ]
  },
  {
   "cell_type": "code",
   "execution_count": 38,
   "id": "6ea37f1f-e1cb-4699-b82b-907e2189f817",
   "metadata": {},
   "outputs": [
    {
     "data": {
      "text/plain": [
       "tensor([[0., 0., 0.],\n",
       "        [0., 0., 0.],\n",
       "        [0., 0., 0.],\n",
       "        [0., 0., 0.],\n",
       "        [0., 0., 0.],\n",
       "        [0., 0., 0.],\n",
       "        [0., 0., 0.],\n",
       "        [0., 0., 0.],\n",
       "        [0., 0., 0.],\n",
       "        [0., 0., 0.],\n",
       "        [0., 0., 0.],\n",
       "        [0., 0., 0.],\n",
       "        [0., 0., 0.],\n",
       "        [0., 0., 0.],\n",
       "        [0., 0., 0.],\n",
       "        [0., 0., 0.],\n",
       "        [0., 0., 0.],\n",
       "        [0., 0., 0.],\n",
       "        [0., 0., 0.],\n",
       "        [0., 0., 0.],\n",
       "        [0., 0., 0.],\n",
       "        [0., 0., 0.],\n",
       "        [0., 0., 0.],\n",
       "        [0., 0., 0.],\n",
       "        [0., 0., 0.],\n",
       "        [0., 0., 0.],\n",
       "        [0., 0., 0.],\n",
       "        [0., 0., 0.],\n",
       "        [0., 0., 0.],\n",
       "        [0., 0., 0.],\n",
       "        [0., 0., 0.],\n",
       "        [0., 0., 0.],\n",
       "        [0., 0., 0.],\n",
       "        [0., 0., 0.],\n",
       "        [0., 0., 0.],\n",
       "        [0., 0., 0.],\n",
       "        [0., 0., 0.],\n",
       "        [0., 0., 0.],\n",
       "        [0., 0., 0.],\n",
       "        [0., 0., 0.],\n",
       "        [0., 0., 0.],\n",
       "        [0., 0., 0.],\n",
       "        [0., 0., 0.],\n",
       "        [0., 0., 0.],\n",
       "        [0., 0., 0.],\n",
       "        [0., 0., 0.],\n",
       "        [0., 0., 0.],\n",
       "        [0., 0., 0.],\n",
       "        [0., 0., 0.],\n",
       "        [0., 0., 0.],\n",
       "        [0., 0., 0.],\n",
       "        [0., 0., 0.],\n",
       "        [0., 0., 0.],\n",
       "        [0., 0., 0.],\n",
       "        [0., 0., 0.],\n",
       "        [0., 0., 0.],\n",
       "        [0., 0., 0.],\n",
       "        [0., 0., 0.],\n",
       "        [0., 0., 0.],\n",
       "        [0., 0., 0.],\n",
       "        [0., 0., 0.],\n",
       "        [0., 0., 0.],\n",
       "        [0., 0., 0.],\n",
       "        [0., 0., 0.],\n",
       "        [0., 0., 0.],\n",
       "        [0., 0., 0.],\n",
       "        [0., 0., 0.],\n",
       "        [0., 0., 0.],\n",
       "        [0., 0., 0.],\n",
       "        [0., 0., 0.],\n",
       "        [0., 0., 0.],\n",
       "        [0., 0., 0.],\n",
       "        [0., 0., 0.],\n",
       "        [0., 0., 0.],\n",
       "        [0., 0., 0.],\n",
       "        [0., 0., 0.],\n",
       "        [0., 0., 0.],\n",
       "        [0., 0., 0.],\n",
       "        [0., 0., 0.],\n",
       "        [0., 0., 0.],\n",
       "        [0., 0., 0.],\n",
       "        [0., 0., 0.],\n",
       "        [0., 0., 0.],\n",
       "        [0., 0., 0.],\n",
       "        [0., 0., 0.],\n",
       "        [0., 0., 0.],\n",
       "        [0., 0., 0.],\n",
       "        [0., 0., 0.],\n",
       "        [0., 0., 0.],\n",
       "        [0., 0., 0.],\n",
       "        [0., 0., 0.],\n",
       "        [0., 0., 0.],\n",
       "        [0., 0., 0.],\n",
       "        [0., 0., 0.],\n",
       "        [0., 0., 0.],\n",
       "        [0., 0., 0.],\n",
       "        [0., 0., 0.],\n",
       "        [0., 0., 0.],\n",
       "        [0., 0., 0.],\n",
       "        [0., 0., 0.],\n",
       "        [0., 0., 0.],\n",
       "        [0., 0., 0.],\n",
       "        [0., 0., 0.],\n",
       "        [0., 0., 0.],\n",
       "        [0., 0., 0.],\n",
       "        [0., 0., 0.],\n",
       "        [0., 0., 0.],\n",
       "        [0., 0., 0.],\n",
       "        [0., 0., 0.],\n",
       "        [0., 0., 0.],\n",
       "        [0., 0., 0.],\n",
       "        [0., 0., 0.],\n",
       "        [0., 0., 0.],\n",
       "        [0., 0., 0.],\n",
       "        [0., 0., 0.],\n",
       "        [0., 0., 0.],\n",
       "        [0., 0., 0.],\n",
       "        [0., 0., 0.],\n",
       "        [0., 0., 0.],\n",
       "        [0., 0., 0.],\n",
       "        [0., 0., 0.],\n",
       "        [0., 0., 0.],\n",
       "        [0., 0., 0.],\n",
       "        [0., 0., 0.],\n",
       "        [0., 0., 0.],\n",
       "        [0., 0., 0.],\n",
       "        [0., 0., 0.],\n",
       "        [0., 0., 0.],\n",
       "        [0., 0., 0.],\n",
       "        [0., 0., 0.],\n",
       "        [0., 0., 0.],\n",
       "        [0., 0., 0.],\n",
       "        [0., 0., 0.],\n",
       "        [0., 0., 0.],\n",
       "        [0., 0., 0.],\n",
       "        [0., 0., 0.],\n",
       "        [0., 0., 0.],\n",
       "        [0., 0., 0.],\n",
       "        [0., 0., 0.],\n",
       "        [0., 0., 0.],\n",
       "        [0., 0., 0.],\n",
       "        [0., 0., 0.],\n",
       "        [0., 0., 0.],\n",
       "        [0., 0., 0.],\n",
       "        [0., 0., 0.],\n",
       "        [0., 0., 0.],\n",
       "        [0., 0., 0.],\n",
       "        [0., 0., 0.],\n",
       "        [0., 0., 0.],\n",
       "        [0., 0., 0.],\n",
       "        [0., 0., 0.],\n",
       "        [0., 0., 0.],\n",
       "        [0., 0., 0.],\n",
       "        [0., 0., 0.],\n",
       "        [0., 0., 0.],\n",
       "        [0., 0., 0.],\n",
       "        [0., 0., 0.],\n",
       "        [0., 0., 0.],\n",
       "        [0., 0., 0.],\n",
       "        [0., 0., 0.],\n",
       "        [0., 0., 0.],\n",
       "        [0., 0., 0.],\n",
       "        [0., 0., 0.],\n",
       "        [0., 0., 0.],\n",
       "        [0., 0., 0.],\n",
       "        [0., 0., 0.],\n",
       "        [0., 0., 0.],\n",
       "        [0., 0., 0.],\n",
       "        [0., 0., 0.],\n",
       "        [0., 0., 0.],\n",
       "        [0., 0., 0.],\n",
       "        [0., 0., 0.],\n",
       "        [0., 0., 0.],\n",
       "        [0., 0., 0.],\n",
       "        [0., 0., 0.],\n",
       "        [0., 0., 0.],\n",
       "        [0., 0., 0.],\n",
       "        [0., 0., 0.],\n",
       "        [0., 0., 0.],\n",
       "        [0., 0., 0.],\n",
       "        [0., 0., 0.],\n",
       "        [0., 0., 0.],\n",
       "        [0., 0., 0.],\n",
       "        [0., 0., 0.],\n",
       "        [0., 0., 0.],\n",
       "        [0., 0., 0.],\n",
       "        [0., 0., 0.],\n",
       "        [0., 0., 0.],\n",
       "        [0., 0., 0.],\n",
       "        [0., 0., 0.],\n",
       "        [0., 0., 0.],\n",
       "        [0., 0., 0.],\n",
       "        [0., 0., 0.],\n",
       "        [0., 0., 0.],\n",
       "        [0., 0., 0.],\n",
       "        [0., 0., 0.],\n",
       "        [0., 0., 0.],\n",
       "        [0., 0., 0.],\n",
       "        [0., 0., 0.],\n",
       "        [0., 0., 0.]], dtype=torch.float64, grad_fn=<SubBackward0>)"
      ]
     },
     "execution_count": 38,
     "metadata": {},
     "output_type": "execute_result"
    }
   ],
   "source": [
    "a(torch.tensor(u)) - nn.Parameter(torch.tensor(u))"
   ]
  },
  {
   "cell_type": "code",
   "execution_count": 40,
   "id": "504de070-09be-4db1-b94e-ef5babf207c2",
   "metadata": {},
   "outputs": [
    {
     "data": {
      "text/plain": [
       "1.9073486328125e-06"
      ]
     },
     "execution_count": 40,
     "metadata": {},
     "output_type": "execute_result"
    }
   ],
   "source": [
    "2**(-19)"
   ]
  },
  {
   "cell_type": "code",
   "execution_count": 41,
   "id": "96e2ba0f-c7ae-4f0a-9c5b-45d348ec12b0",
   "metadata": {},
   "outputs": [],
   "source": [
    "u = np.random.normal(size=(200, 3))"
   ]
  },
  {
   "cell_type": "code",
   "execution_count": 42,
   "id": "51171fe1-862c-472f-898a-345fd4d9c684",
   "metadata": {},
   "outputs": [],
   "source": [
    "v = np.array([e for i, e in enumerate(u) if i%4==0])"
   ]
  },
  {
   "cell_type": "code",
   "execution_count": 43,
   "id": "c9cc6657-b8be-4ba4-928a-4cbcf00d5c29",
   "metadata": {},
   "outputs": [
    {
     "data": {
      "text/plain": [
       "(50, 3)"
      ]
     },
     "execution_count": 43,
     "metadata": {},
     "output_type": "execute_result"
    }
   ],
   "source": [
    "v.shape"
   ]
  },
  {
   "cell_type": "code",
   "execution_count": 46,
   "id": "8a8852a9-d24a-43c5-853c-9e2a2013f893",
   "metadata": {},
   "outputs": [
    {
     "data": {
      "text/plain": [
       "182.0"
      ]
     },
     "execution_count": 46,
     "metadata": {},
     "output_type": "execute_result"
    }
   ],
   "source": [
    "0.91/(0.02/4)"
   ]
  },
  {
   "cell_type": "code",
   "execution_count": 47,
   "id": "52a6880d-2976-4a44-b639-70fd103d35ee",
   "metadata": {},
   "outputs": [
    {
     "data": {
      "text/plain": [
       "3640"
      ]
     },
     "execution_count": 47,
     "metadata": {},
     "output_type": "execute_result"
    }
   ],
   "source": [
    "182*20"
   ]
  },
  {
   "cell_type": "code",
   "execution_count": 10,
   "id": "9e5ac658-4940-400f-ae43-58fedefd4a5e",
   "metadata": {},
   "outputs": [
    {
     "data": {
      "text/plain": [
       "array([], shape=(512, 0), dtype=float64)"
      ]
     },
     "execution_count": 10,
     "metadata": {},
     "output_type": "execute_result"
    }
   ],
   "source": [
    "u"
   ]
  },
  {
   "cell_type": "code",
   "execution_count": null,
   "id": "0da24715-1064-4b6e-8943-a712fd1e7a31",
   "metadata": {},
   "outputs": [],
   "source": []
  }
 ],
 "metadata": {
  "kernelspec": {
   "display_name": "Python 3 (ipykernel)",
   "language": "python",
   "name": "python3"
  },
  "language_info": {
   "codemirror_mode": {
    "name": "ipython",
    "version": 3
   },
   "file_extension": ".py",
   "mimetype": "text/x-python",
   "name": "python",
   "nbconvert_exporter": "python",
   "pygments_lexer": "ipython3",
   "version": "3.11.5"
  }
 },
 "nbformat": 4,
 "nbformat_minor": 5
}

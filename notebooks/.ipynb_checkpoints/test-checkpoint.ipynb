{
 "cells": [
  {
   "cell_type": "code",
   "execution_count": 4,
   "id": "cd63a819-818b-428f-8901-d3a8ab0f356f",
   "metadata": {},
   "outputs": [
    {
     "name": "stdout",
     "output_type": "stream",
     "text": [
      "Time taken by sample is 0.2737 seconds\n"
     ]
    },
    {
     "data": {
      "text/plain": [
       "tensor([[ 1.5766e-04, -1.1132e-02,  4.3462e-03, -2.2747e+00],\n",
       "        [-3.7486e-03,  1.4231e-03, -1.5767e-03, -3.2015e+00],\n",
       "        [ 2.8948e-03, -6.0355e-03, -6.3071e-03,  1.2376e+00],\n",
       "        ...,\n",
       "        [-1.2978e-02,  2.2965e-02, -6.8624e-03,  1.7826e+00],\n",
       "        [-5.1016e-03, -2.5834e-03, -1.4587e-02, -1.6192e+00],\n",
       "        [-4.5927e-04,  8.1602e-04, -4.8877e-04, -4.7435e-01]])"
      ]
     },
     "execution_count": 4,
     "metadata": {},
     "output_type": "execute_result"
    }
   ],
   "source": [
    "import os, sys \n",
    "from pathlib import Path\n",
    "from os.path import dirname, realpath\n",
    "script_dir = Path(dirname(realpath('.')))\n",
    "module_dir = str(script_dir)\n",
    "sys.path.insert(0, module_dir + '/modules')\n",
    "import numpy as np\n",
    "import utility as ut\n",
    "import matplotlib.pyplot as plt\n",
    "import pandas as pd\n",
    "import warnings\n",
    "from scipy import stats\n",
    "import seaborn as sns\n",
    "import oneshot as sm\n",
    "import eulerN as arch \n",
    "import torch\n",
    "from torch import nn\n",
    "# warnings.filterwarnings('ignore'\n",
    "\n",
    "\n",
    "Uo1 = torch.tensor(np.load('../data/L63-trajectories/train1.npy'))\n",
    "Uo2 = np.load('../data/L63-trajectories/train2.npy')\n",
    "Uo3 = np.load('../data/L63-trajectories/train3.npy')\n",
    "Uo4 = np.load('../data/L63-trajectories/train4.npy')\n",
    "Uo5 = np.load('../data/L63-trajectories/train5.npy')\n",
    "Uo6 = np.load('../data/L63-trajectories/train6.npy')\n",
    "Uo7 = np.load('../data/L63-trajectories/train7.npy')\n",
    "Uo8 = np.load('../data/L63-trajectories/train8.npy')\n",
    "Uo9 = np.load('../data/L63-trajectories/train9.npy')\n",
    "Uo10 = np.load('../data/L63-trajectories/train10.npy')\n",
    "\n",
    "Vo = np.load('../data/L63-trajectories/test.npy')\n",
    "L0, L1 = 0.4, 3.5\n",
    "D, D_r, B = 3, 256, 2\n",
    "beta = 4e-5\n",
    "m = 500\n",
    "\n",
    "\n",
    "good = sm.GoodRowSampler(L0, L1, Uo1)\n",
    "good.sample(4096)"
   ]
  },
  {
   "cell_type": "code",
   "execution_count": 2,
   "id": "c1a7628f-db20-4a10-abf0-e94702889a53",
   "metadata": {},
   "outputs": [],
   "source": [
    "description = \"This experiment tests the class ExperimentLogger.This class is meant logging experiments easier.\"\n",
    "el = ut.ExperimentLogger('../data', description)\n",
    "el.add(rf1)"
   ]
  },
  {
   "cell_type": "code",
   "execution_count": 4,
   "id": "152c5e7e-3214-4850-8463-ce3ea865c4d4",
   "metadata": {},
   "outputs": [
    {
     "name": "stdout",
     "output_type": "stream",
     "text": [
      "Time taken by sample_parallel is 0.8578 seconds\n"
     ]
    },
    {
     "data": {
      "text/plain": [
       "array([[[-4.63154548e-03,  1.42069635e-03, -4.95497276e-03,\n",
       "          8.43006807e-01],\n",
       "        [ 4.58679165e-03, -8.91582365e-03, -1.79677331e-02,\n",
       "          1.59154187e+00],\n",
       "        [ 1.21815779e-02,  1.90552699e-02,  1.64752203e-02,\n",
       "         -2.77205597e+00],\n",
       "        ...,\n",
       "        [ 5.77766868e-03,  5.21274658e-03,  2.22910815e-02,\n",
       "          5.57825938e+00],\n",
       "        [-5.23315940e-04,  1.07917243e-02,  7.84494990e-03,\n",
       "         -4.54557147e+00],\n",
       "        [ 1.59743223e-02,  4.33986098e-02, -1.32151760e-02,\n",
       "         -5.76450145e+00]],\n",
       "\n",
       "       [[-1.65677389e-03, -1.69099812e-03,  2.50709238e-03,\n",
       "         -6.24978693e-01],\n",
       "        [ 1.74980326e-02, -3.60228301e-03, -1.35851141e-02,\n",
       "          2.18494148e+00],\n",
       "        [ 3.52903775e-05, -3.11401276e-03,  1.24470007e-03,\n",
       "          8.39453921e-01],\n",
       "        ...,\n",
       "        [ 9.60147312e-04,  4.31947923e-03, -5.67737038e-03,\n",
       "          6.65760675e+00],\n",
       "        [ 9.07709099e-04, -6.84979640e-04, -4.34215527e-03,\n",
       "          7.15957674e+00],\n",
       "        [-1.23580300e-02,  5.15337160e-03,  7.22002818e-03,\n",
       "          8.69031658e+00]],\n",
       "\n",
       "       [[ 1.51878195e-03,  2.23409600e-03, -4.00960955e-02,\n",
       "         -4.95430915e-01],\n",
       "        [-1.32482454e-03,  7.11923856e-04, -9.52147013e-03,\n",
       "         -1.87228080e+00],\n",
       "        [-3.50687795e-03, -2.21367517e-03, -9.72423481e-04,\n",
       "         -6.37406707e-01],\n",
       "        ...,\n",
       "        [-9.53371850e-03,  4.56677823e-03,  2.38633336e-03,\n",
       "         -5.16151352e+00],\n",
       "        [ 5.40011244e-02, -2.15249446e-02, -2.96466527e-02,\n",
       "          8.22852568e+00],\n",
       "        [ 2.36384444e-03,  1.48348713e-02,  9.49904885e-03,\n",
       "         -8.47054619e+00]],\n",
       "\n",
       "       ...,\n",
       "\n",
       "       [[ 6.69907979e-04, -7.61597783e-03,  2.72332118e-03,\n",
       "         -2.80737961e+00],\n",
       "        [-1.41575498e-03, -1.60773916e-03, -4.70393013e-04,\n",
       "         -3.15819846e+00],\n",
       "        [-3.82380700e-03, -6.76056690e-03,  3.54883830e-03,\n",
       "          1.78635777e+00],\n",
       "        ...,\n",
       "        [ 1.48314373e-04,  1.09577254e-02,  6.45997302e-03,\n",
       "          7.70300768e+00],\n",
       "        [-9.64397548e-03,  1.58583032e-02, -3.70239173e-02,\n",
       "         -4.17935355e+00],\n",
       "        [ 2.63228569e-02,  4.55591389e-02,  2.15430284e-02,\n",
       "         -8.14122437e+00]],\n",
       "\n",
       "       [[-6.29205492e-03, -2.73503117e-02,  9.90390325e-03,\n",
       "          1.44455965e+00],\n",
       "        [-4.48941996e-03,  7.07825050e-03,  5.07512412e-03,\n",
       "         -1.16850045e+00],\n",
       "        [-3.17465049e-02, -1.18773775e-02,  1.86188396e-03,\n",
       "          2.28398289e+00],\n",
       "        ...,\n",
       "        [-1.24274631e-02, -1.13791164e-02,  3.63687826e-04,\n",
       "          4.88437042e+00],\n",
       "        [ 7.89622950e-04,  2.16532680e-02, -1.05562789e-02,\n",
       "          4.97253953e+00],\n",
       "        [ 1.69601828e-02,  2.89698726e-02, -2.64636199e-02,\n",
       "          8.17293231e+00]],\n",
       "\n",
       "       [[ 3.24461264e-04,  1.91499433e-04,  4.93270890e-03,\n",
       "         -2.81438832e+00],\n",
       "        [ 7.08457574e-03,  7.91498514e-03, -7.51756481e-04,\n",
       "          1.03206027e+00],\n",
       "        [ 7.27522434e-03, -6.75419469e-04, -4.78856423e-03,\n",
       "          9.24634700e-01],\n",
       "        ...,\n",
       "        [ 8.36340185e-03, -3.87147122e-02, -4.51472457e-02,\n",
       "          8.20204472e+00],\n",
       "        [-1.72254133e-03, -1.41272815e-02, -1.80029399e-02,\n",
       "          5.04460383e+00],\n",
       "        [-6.32138057e-03,  7.72562042e-03,  2.01221973e-02,\n",
       "          5.37646770e+00]]])"
      ]
     },
     "execution_count": 4,
     "metadata": {},
     "output_type": "execute_result"
    },
    {
     "name": "stdout",
     "output_type": "stream",
     "text": [
      "Time taken by sample is 0.0051 seconds\n",
      "Time taken by sample is 0.0045 seconds\n",
      "Time taken by sample is 0.0024 seconds\n",
      "Time taken by sample is 0.0019 seconds\n",
      "Time taken by sample is 0.0017 seconds\n",
      "Time taken by sample is 0.0018 seconds\n",
      "Time taken by sample is 0.0018 seconds\n",
      "Time taken by sample is 0.0017 seconds\n",
      "Time taken by sample is 0.0018 seconds\n",
      "Time taken by sample is 0.0018 seconds\n",
      "Time taken by sample is 0.0016 seconds\n",
      "Time taken by sample is 0.0018 seconds\n",
      "Time taken by sample is 0.0037 seconds\n",
      "Time taken by sample is 0.0046 seconds\n",
      "Time taken by sample is 0.0036 seconds\n",
      "Time taken by sample is 0.0019 seconds\n",
      "Time taken by sample is 0.0017 seconds\n",
      "Time taken by sample is 0.0018 seconds\n",
      "Time taken by sample is 0.0018 seconds\n",
      "Time taken by sample is 0.0036 seconds\n",
      "Time taken by sample is 0.0049 seconds\n",
      "Time taken by sample is 0.0061 seconds\n",
      "Time taken by sample is 0.0044 seconds\n",
      "Time taken by sample is 0.0024 seconds\n",
      "Time taken by sample is 0.0032 seconds\n",
      "Time taken by sample is 0.0017 seconds\n",
      "Time taken by sample is 0.0019 seconds\n",
      "Time taken by sample is 0.0019 seconds\n",
      "Time taken by sample is 0.0017 seconds\n",
      "Time taken by sample is 0.0019 seconds\n",
      "Time taken by sample is 0.0057 seconds\n",
      "Time taken by sample is 0.0044 seconds\n",
      "Time taken by sample is 0.0021 seconds\n",
      "Time taken by sample is 0.0019 seconds\n",
      "Time taken by sample is 0.0019 seconds\n",
      "Time taken by sample is 0.0055 seconds\n",
      "Time taken by sample is 0.0057 seconds\n",
      "Time taken by sample is 0.0046 seconds\n",
      "Time taken by sample is 0.0019 seconds\n",
      "Time taken by sample is 0.0019 seconds\n",
      "Time taken by sample is 0.0017 seconds\n",
      "Time taken by sample is 0.0018 seconds\n",
      "Time taken by sample is 0.0020 seconds\n",
      "Time taken by sample is 0.0017 seconds\n",
      "Time taken by sample is 0.0018 seconds\n",
      "Time taken by sample is 0.0020 seconds\n",
      "Time taken by sample is 0.0017 seconds\n",
      "Time taken by sample is 0.0018 seconds\n",
      "Time taken by sample is 0.0044 seconds\n",
      "Time taken by sample is 0.0050 seconds\n",
      "Time taken by sample is 0.0066 seconds\n",
      "Time taken by sample is 0.0046 seconds\n",
      "Time taken by sample is 0.0017 seconds\n",
      "Time taken by sample is 0.0018 seconds\n",
      "Time taken by sample is 0.0048 seconds\n",
      "Time taken by sample is 0.0017 seconds\n",
      "Time taken by sample is 0.0018 seconds\n",
      "Time taken by sample is 0.0019 seconds\n",
      "Time taken by sample is 0.0019 seconds\n",
      "Time taken by sample is 0.0060 seconds\n",
      "Time taken by sample is 0.0043 seconds\n",
      "Time taken by sample is 0.0017 seconds\n",
      "Time taken by sample is 0.0018 seconds\n",
      "Time taken by sample is 0.0018 seconds\n",
      "Time taken by sample is 0.0017 seconds\n",
      "Time taken by sample is 0.0018 seconds\n",
      "Time taken by sample is 0.0036 seconds\n",
      "Time taken by sample is 0.0048 seconds\n",
      "Time taken by sample is 0.0021 seconds\n",
      "Time taken by sample is 0.0094 seconds\n",
      "Time taken by sample is 0.0045 seconds\n",
      "Time taken by sample is 0.0050 seconds\n",
      "Time taken by sample is 0.0019 seconds\n",
      "Time taken by sample is 0.0017 seconds\n",
      "Time taken by sample is 0.0018 seconds\n",
      "Time taken by sample is 0.0018 seconds\n",
      "Time taken by sample is 0.0017 seconds\n",
      "Time taken by sample is 0.0018 seconds\n",
      "Time taken by sample is 0.0018 seconds\n",
      "Time taken by sample is 0.0017 seconds\n",
      "Time taken by sample is 0.0018 seconds\n",
      "Time taken by sample is 0.0020 seconds\n",
      "Time taken by sample is 0.0017 seconds\n",
      "Time taken by sample is 0.0040 seconds\n",
      "Time taken by sample is 0.0019 seconds\n",
      "Time taken by sample is 0.0039 seconds\n",
      "Time taken by sample is 0.0048 seconds\n",
      "Time taken by sample is 0.0053 seconds\n",
      "Time taken by sample is 0.0053 seconds\n",
      "Time taken by sample is 0.0018 seconds\n"
     ]
    }
   ],
   "source": []
  },
  {
   "cell_type": "code",
   "execution_count": 5,
   "id": "f1e08ad8-7f77-4678-b285-7b4caaa9ba82",
   "metadata": {},
   "outputs": [],
   "source": [
    "a = np.random.normal(size=(5, 3))\n",
    "b = np.random.normal(size=(4, 3))"
   ]
  },
  {
   "cell_type": "code",
   "execution_count": 10,
   "id": "85d6b436-c0a4-4179-843d-b8bbb6a1a481",
   "metadata": {},
   "outputs": [
    {
     "ename": "ValueError",
     "evalue": "all the input array dimensions except for the concatenation axis must match exactly, but along dimension 1, the array at index 0 has size 1 and the array at index 1 has size 3",
     "output_type": "error",
     "traceback": [
      "\u001b[0;31m---------------------------------------------------------------------------\u001b[0m",
      "\u001b[0;31mValueError\u001b[0m                                Traceback (most recent call last)",
      "Cell \u001b[0;32mIn[10], line 1\u001b[0m\n\u001b[0;32m----> 1\u001b[0m \u001b[43mnp\u001b[49m\u001b[38;5;241;43m.\u001b[39;49m\u001b[43mvstack\u001b[49m\u001b[43m(\u001b[49m\u001b[43m(\u001b[49m\u001b[38;5;28;43;01mNone\u001b[39;49;00m\u001b[43m,\u001b[49m\u001b[43m \u001b[49m\u001b[43ma\u001b[49m\u001b[43m)\u001b[49m\u001b[43m)\u001b[49m\n",
      "File \u001b[0;32m~/miniconda3/envs/metal/lib/python3.11/site-packages/numpy/core/shape_base.py:289\u001b[0m, in \u001b[0;36mvstack\u001b[0;34m(tup, dtype, casting)\u001b[0m\n\u001b[1;32m    287\u001b[0m \u001b[38;5;28;01mif\u001b[39;00m \u001b[38;5;129;01mnot\u001b[39;00m \u001b[38;5;28misinstance\u001b[39m(arrs, \u001b[38;5;28mlist\u001b[39m):\n\u001b[1;32m    288\u001b[0m     arrs \u001b[38;5;241m=\u001b[39m [arrs]\n\u001b[0;32m--> 289\u001b[0m \u001b[38;5;28;01mreturn\u001b[39;00m \u001b[43m_nx\u001b[49m\u001b[38;5;241;43m.\u001b[39;49m\u001b[43mconcatenate\u001b[49m\u001b[43m(\u001b[49m\u001b[43marrs\u001b[49m\u001b[43m,\u001b[49m\u001b[43m \u001b[49m\u001b[38;5;241;43m0\u001b[39;49m\u001b[43m,\u001b[49m\u001b[43m \u001b[49m\u001b[43mdtype\u001b[49m\u001b[38;5;241;43m=\u001b[39;49m\u001b[43mdtype\u001b[49m\u001b[43m,\u001b[49m\u001b[43m \u001b[49m\u001b[43mcasting\u001b[49m\u001b[38;5;241;43m=\u001b[39;49m\u001b[43mcasting\u001b[49m\u001b[43m)\u001b[49m\n",
      "\u001b[0;31mValueError\u001b[0m: all the input array dimensions except for the concatenation axis must match exactly, but along dimension 1, the array at index 0 has size 1 and the array at index 1 has size 3"
     ]
    }
   ],
   "source": [
    "np.vstack((None, a))"
   ]
  },
  {
   "cell_type": "code",
   "execution_count": 8,
   "id": "0e616755-9777-4bdd-9b92-7238ad103c4c",
   "metadata": {},
   "outputs": [
    {
     "data": {
      "text/plain": [
       "(5, 3)"
      ]
     },
     "execution_count": 8,
     "metadata": {},
     "output_type": "execute_result"
    }
   ],
   "source": [
    "a.shape"
   ]
  },
  {
   "cell_type": "code",
   "execution_count": null,
   "id": "a3949727-ef4d-4bec-b192-5e30cab213d9",
   "metadata": {},
   "outputs": [],
   "source": []
  }
 ],
 "metadata": {
  "kernelspec": {
   "display_name": "Python 3 (ipykernel)",
   "language": "python",
   "name": "python3"
  },
  "language_info": {
   "codemirror_mode": {
    "name": "ipython",
    "version": 3
   },
   "file_extension": ".py",
   "mimetype": "text/x-python",
   "name": "python",
   "nbconvert_exporter": "python",
   "pygments_lexer": "ipython3",
   "version": "3.11.5"
  }
 },
 "nbformat": 4,
 "nbformat_minor": 5
}

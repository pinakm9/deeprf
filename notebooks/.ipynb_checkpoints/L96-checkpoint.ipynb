{
 "cells": [
  {
   "cell_type": "code",
   "execution_count": 20,
   "id": "8ce9a599",
   "metadata": {},
   "outputs": [],
   "source": [
    "# load necessary modules\n",
    "import numpy as np \n",
    "from scipy.integrate import odeint\n",
    "import os, sys \n",
    "from pathlib import Path\n",
    "from os.path import dirname, realpath\n",
    "script_dir = Path(dirname(realpath('.')))\n",
    "module_dir = str(script_dir)\n",
    "sys.path.insert(0, module_dir + '/modules')\n",
    "import utility as ut\n",
    "import matplotlib.pyplot as plt\n",
    "from joblib import Parallel, delayed\n",
    "import time\n",
    "\n",
    "# L96 system\n",
    "def L96(u, F=10):\n",
    "    u_new = np.zeros_like(u)\n",
    "    for i in range(len(u)):\n",
    "        u_new[i] = (u[(i + 1) % len(u)] - u[i - 2]) * u[i - 1] - u[i] + F\n",
    "    return u_new\n",
    "\n",
    "# single trajectory generator for L96\n",
    "def generate_trajectory(state0, dt, n_steps):\n",
    "    return odeint(lambda x, t: L96(x), state0, np.arange(0, n_steps*dt, dt))\n",
    "\n",
    "# multiple trajectories generator for L96\n",
    "@ut.timer\n",
    "def generate_trajectories(num_trajectories, dim, dt, n_steps, save_folder, name):\n",
    "    if not os.path.exists(save_folder):\n",
    "        os.makedirs(save_folder)\n",
    "    trajectories = np.zeros((num_trajectories, dim, n_steps))\n",
    "\n",
    "    random_points =  np.random.normal(size=(num_trajectories, dim))\n",
    "    generate = lambda *args: generate_trajectory(*args)[-1]\n",
    "    states0 = Parallel(n_jobs=-1)(delayed(generate)(random_points[i], dt, 2000) for i in range(num_trajectories))\n",
    "    results = Parallel(n_jobs=-1)(delayed(generate_trajectory)(state0, dt, n_steps) for state0 in states0)\n",
    "    for i in range(states0):\n",
    "        trajectories[i, :, :] = results[i].T \n",
    "    np.save('{}/{}.npy'.format(save_folder, name), trajectories)"
   ]
  },
  {
   "cell_type": "code",
   "execution_count": 15,
   "id": "8a1cbf29",
   "metadata": {},
   "outputs": [],
   "source": [
    "seed = 43\n",
    "np.random.seed(seed)\n",
    "save_folder='../data/L96-trajectories'\n",
    "dt = 0.01\n",
    "n_steps = 200000\n",
    "dim = 40\n",
    "# find a point on the attractor\n",
    "random_point =  np.random.normal(size=dim)\n",
    "attractor_point = generate_trajectory(random_point, dt, n_steps=200000)[-1]\n",
    "# for i in range(25):\n",
    "#     train = generate_trajectory(attractor_point, dt/(i+1), n_steps)\n",
    "#     np.save('{}/{}.npy'.format(save_folder, f'train{i+1}'), train.T)"
   ]
  },
  {
   "cell_type": "code",
   "execution_count": 21,
   "id": "dab76226-8d78-42f4-8ddb-6b0b449f8a02",
   "metadata": {},
   "outputs": [
    {
     "ename": "UnboundLocalError",
     "evalue": "cannot access local variable 'states0' where it is not associated with a value",
     "output_type": "error",
     "traceback": [
      "\u001b[0;31m---------------------------------------------------------------------------\u001b[0m",
      "\u001b[0;31mUnboundLocalError\u001b[0m                         Traceback (most recent call last)",
      "Cell \u001b[0;32mIn[21], line 8\u001b[0m\n\u001b[1;32m      5\u001b[0m states0 \u001b[38;5;241m=\u001b[39m []\n\u001b[1;32m      6\u001b[0m start \u001b[38;5;241m=\u001b[39m time\u001b[38;5;241m.\u001b[39mtime()\n\u001b[0;32m----> 8\u001b[0m \u001b[43mgenerate_trajectories\u001b[49m\u001b[43m(\u001b[49m\u001b[43mstates0\u001b[49m\u001b[43m,\u001b[49m\u001b[43m \u001b[49m\u001b[43mdt\u001b[49m\u001b[43m,\u001b[49m\u001b[43m \u001b[49m\u001b[38;5;241;43m800\u001b[39;49m\u001b[43m,\u001b[49m\u001b[43m \u001b[49m\u001b[43msave_folder\u001b[49m\u001b[43m,\u001b[49m\u001b[43m \u001b[49m\u001b[38;5;124;43m'\u001b[39;49m\u001b[38;5;124;43mtest\u001b[39;49m\u001b[38;5;124;43m'\u001b[39;49m\u001b[43m)\u001b[49m\n\u001b[1;32m      9\u001b[0m end \u001b[38;5;241m=\u001b[39m time\u001b[38;5;241m.\u001b[39mtime()\n\u001b[1;32m     10\u001b[0m \u001b[38;5;28mprint\u001b[39m(\u001b[38;5;124mf\u001b[39m\u001b[38;5;124m\"\u001b[39m\u001b[38;5;124mTime taken to generate test data = \u001b[39m\u001b[38;5;132;01m{\u001b[39;00mend\u001b[38;5;241m-\u001b[39mstart\u001b[38;5;132;01m:\u001b[39;00m\u001b[38;5;124m.2f\u001b[39m\u001b[38;5;132;01m}\u001b[39;00m\u001b[38;5;124ms\u001b[39m\u001b[38;5;124m\"\u001b[39m)\n",
      "File \u001b[0;32m~/Documents/GitHub/deeprf/modules/utility.py:18\u001b[0m, in \u001b[0;36mtimer.<locals>.new_func\u001b[0;34m(*args, **kwargs)\u001b[0m\n\u001b[1;32m     16\u001b[0m \u001b[38;5;28;01mdef\u001b[39;00m \u001b[38;5;21mnew_func\u001b[39m(\u001b[38;5;241m*\u001b[39margs, \u001b[38;5;241m*\u001b[39m\u001b[38;5;241m*\u001b[39mkwargs):\n\u001b[1;32m     17\u001b[0m \tstart \u001b[38;5;241m=\u001b[39m time()\n\u001b[0;32m---> 18\u001b[0m \tval \u001b[38;5;241m=\u001b[39m \u001b[43mfunc\u001b[49m\u001b[43m(\u001b[49m\u001b[38;5;241;43m*\u001b[39;49m\u001b[43margs\u001b[49m\u001b[43m,\u001b[49m\u001b[38;5;241;43m*\u001b[39;49m\u001b[38;5;241;43m*\u001b[39;49m\u001b[43mkwargs\u001b[49m\u001b[43m)\u001b[49m\n\u001b[1;32m     19\u001b[0m \tend \u001b[38;5;241m=\u001b[39m time()\n\u001b[1;32m     20\u001b[0m \t\u001b[38;5;28mprint\u001b[39m(\u001b[38;5;124mf\u001b[39m\u001b[38;5;124m'\u001b[39m\u001b[38;5;124mTime taken by \u001b[39m\u001b[38;5;132;01m{\u001b[39;00mfunc\u001b[38;5;241m.\u001b[39m\u001b[38;5;18m__name__\u001b[39m\u001b[38;5;132;01m}\u001b[39;00m\u001b[38;5;124m is \u001b[39m\u001b[38;5;132;01m{\u001b[39;00mend\u001b[38;5;241m-\u001b[39mstart\u001b[38;5;132;01m:\u001b[39;00m\u001b[38;5;124m.4f\u001b[39m\u001b[38;5;132;01m}\u001b[39;00m\u001b[38;5;124m seconds\u001b[39m\u001b[38;5;124m'\u001b[39m)\n",
      "Cell \u001b[0;32mIn[20], line 31\u001b[0m, in \u001b[0;36mgenerate_trajectories\u001b[0;34m(num_trajectories, dt, n_steps, save_folder, name)\u001b[0m\n\u001b[1;32m     29\u001b[0m \u001b[38;5;28;01mif\u001b[39;00m \u001b[38;5;129;01mnot\u001b[39;00m os\u001b[38;5;241m.\u001b[39mpath\u001b[38;5;241m.\u001b[39mexists(save_folder):\n\u001b[1;32m     30\u001b[0m     os\u001b[38;5;241m.\u001b[39mmakedirs(save_folder)\n\u001b[0;32m---> 31\u001b[0m trajectories \u001b[38;5;241m=\u001b[39m np\u001b[38;5;241m.\u001b[39mzeros((\u001b[38;5;28mlen\u001b[39m(\u001b[43mstates0\u001b[49m), \u001b[38;5;28mlen\u001b[39m(states0[\u001b[38;5;241m0\u001b[39m]), n_steps))\n\u001b[1;32m     33\u001b[0m random_points \u001b[38;5;241m=\u001b[39m  np\u001b[38;5;241m.\u001b[39mrandom\u001b[38;5;241m.\u001b[39mnormal(size\u001b[38;5;241m=\u001b[39m(num_trajectories, dim))\n\u001b[1;32m     34\u001b[0m generate \u001b[38;5;241m=\u001b[39m \u001b[38;5;28;01mlambda\u001b[39;00m \u001b[38;5;241m*\u001b[39margs: generate_trajectory(\u001b[38;5;241m*\u001b[39margs)[\u001b[38;5;241m-\u001b[39m\u001b[38;5;241m1\u001b[39m]\n",
      "\u001b[0;31mUnboundLocalError\u001b[0m: cannot access local variable 'states0' where it is not associated with a value"
     ]
    }
   ],
   "source": [
    "seed = 42\n",
    "np.random.seed(seed)\n",
    "num_trajectories = 10\n",
    "\n",
    "states0 = []\n",
    "start = time.time()\n",
    "\n",
    "generate_trajectories(states0, dt, 800, save_folder, 'test')\n",
    "end = time.time()\n",
    "print(f\"Time taken to generate test data = {end-start:.2f}s\")"
   ]
  },
  {
   "cell_type": "code",
   "execution_count": 18,
   "id": "9b2a78f0-bc93-4f72-b6ff-5a0c273ecb9a",
   "metadata": {},
   "outputs": [
    {
     "data": {
      "text/plain": [
       "93.75"
      ]
     },
     "execution_count": 18,
     "metadata": {},
     "output_type": "execute_result"
    }
   ],
   "source": [
    "0.15*5000/8"
   ]
  },
  {
   "cell_type": "code",
   "execution_count": null,
   "id": "dd2e6093-3279-4cd9-96d9-a7f65d72d4d5",
   "metadata": {},
   "outputs": [],
   "source": []
  }
 ],
 "metadata": {
  "kernelspec": {
   "display_name": "Python 3 (ipykernel)",
   "language": "python",
   "name": "python3"
  },
  "language_info": {
   "codemirror_mode": {
    "name": "ipython",
    "version": 3
   },
   "file_extension": ".py",
   "mimetype": "text/x-python",
   "name": "python",
   "nbconvert_exporter": "python",
   "pygments_lexer": "ipython3",
   "version": "3.11.5"
  }
 },
 "nbformat": 4,
 "nbformat_minor": 5
}

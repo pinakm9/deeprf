{
 "cells": [
  {
   "cell_type": "code",
   "execution_count": 1,
   "id": "4e736d7c-ed73-4a2f-bc17-115eb937027a",
   "metadata": {},
   "outputs": [],
   "source": [
    "import os, sys \n",
    "from pathlib import Path\n",
    "from os.path import dirname, realpath\n",
    "script_dir = Path(dirname(realpath('.')))\n",
    "module_dir = str(script_dir)\n",
    "sys.path.insert(0, module_dir + '/modules')\n",
    "import numpy as np\n",
    "import utility as ut\n",
    "import matplotlib.pyplot as plt\n",
    "import pandas as pd\n",
    "import warnings\n",
    "from scipy import stats\n",
    "import seaborn as sns\n",
    "import eulerAut2 as arch \n",
    "import torch\n",
    "from torch import nn\n",
    "# warnings.filterwarnings('ignore')"
   ]
  },
  {
   "cell_type": "code",
   "execution_count": 2,
   "id": "7d73941f-4c78-4591-b411-e6db8a481a47",
   "metadata": {},
   "outputs": [],
   "source": [
    "Uo10 = np.load('../data/L63-trajectories/train10.npy')\n",
    "Vo = np.load('../data/L63-trajectories/test.npy')\n",
    "L0, L1 = 0.25, 5\n",
    "beta = 7e-8\n",
    "training_points = 25000\n",
    "n_repeats = 500\n",
    "tau_f_kwargs = {'error_threshold' : 0.05, 'dt': 0.02, 'Lyapunov_time': 1/0.91}"
   ]
  },
  {
   "cell_type": "code",
   "execution_count": null,
   "id": "93fd1330-d493-4371-9531-dc0c1e9f53d8",
   "metadata": {},
   "outputs": [
    {
     "name": "stdout",
     "output_type": "stream",
     "text": [
      "Running experiments for batch 0...\n",
      "Time taken = 4.32E+01s\n",
      "Running experiments for batch 1...\n"
     ]
    }
   ],
   "source": [
    "D_r, B, alpha, batch_size, normalize = 256, 20, 0.5, 100, False\n",
    "Uo = np.load(f'../data/L63-trajectories/train{B}.npy')\n",
    "drf_args = [D_r, B, alpha, L0, L1, Uo, beta, 'EulerN', f\"../data/EulerN/depth-{B}/D_r-{D_r}{'' if not normalize else '-normalized'}\", normalize]\n",
    "batch = arch.BatchDeepRF(Uo, Vo, *drf_args)\n",
    "batch.run(training_points, n_repeats, batch_size, **tau_f_kwargs)"
   ]
  },
  {
   "cell_type": "code",
   "execution_count": null,
   "id": "e018bb9a-71da-4a35-a6d8-016249f8d179",
   "metadata": {},
   "outputs": [],
   "source": [
    "fig = plt.figure(figsize=(5, 5))\n",
    "ax = fig.add_subplot(111)\n",
    "tau_f = batch.get_data()['tau_f_se']\n",
    "sns.histplot(tau_f, ax=ax, label=r'$\\mathbb{E}[\\tau_f]$'+f'={tau_f.mean():.2f}', alpha=0.7, stat='probability')\n",
    "ax.legend()\n",
    "ax.set_xlabel('')\n",
    "ax.set_ylabel('')\n",
    "ax.set_title(fr'architecture=EulerN, $D_r$={D_r}, depth={batch.drf.net.B}')\n",
    "plt.savefig(f'{batch.drf.save_folder}/tau_f.png', bbox_inches='tight', dpi=300)"
   ]
  },
  {
   "cell_type": "code",
   "execution_count": null,
   "id": "c33a68bd-6f53-4aa2-87a2-2a81be084a70",
   "metadata": {},
   "outputs": [],
   "source": []
  }
 ],
 "metadata": {
  "kernelspec": {
   "display_name": "Python 3 (ipykernel)",
   "language": "python",
   "name": "python3"
  },
  "language_info": {
   "codemirror_mode": {
    "name": "ipython",
    "version": 3
   },
   "file_extension": ".py",
   "mimetype": "text/x-python",
   "name": "python",
   "nbconvert_exporter": "python",
   "pygments_lexer": "ipython3",
   "version": "3.11.5"
  }
 },
 "nbformat": 4,
 "nbformat_minor": 5
}

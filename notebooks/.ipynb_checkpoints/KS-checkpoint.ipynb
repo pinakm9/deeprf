{
 "cells": [
  {
   "cell_type": "code",
   "execution_count": 10,
   "id": "8ce9a599",
   "metadata": {},
   "outputs": [],
   "source": [
    "# load necessary modules\n",
    "import numpy as np \n",
    "from scipy.integrate import odeint\n",
    "import os, sys \n",
    "from pathlib import Path\n",
    "from os.path import dirname, realpath\n",
    "script_dir = Path(dirname(realpath('.')))\n",
    "module_dir = str(script_dir)\n",
    "sys.path.insert(0, module_dir + '/modules')\n",
    "import utility as ut\n",
    "import matplotlib.pyplot as plt\n",
    "from joblib import Parallel, delayed\n",
    "import time\n",
    "\n",
    "dim = 3\n",
    "dt = 0.02\n",
    "# L63 system\n",
    "def L63(u, alpha=10., rho=28., beta=8./3.):\n",
    "    x, y, z = u #np.split(u, 3, axis=-1)\n",
    "    p = alpha * (y - x)\n",
    "    q = (rho - z) * x - y\n",
    "    r = x * y - beta * z\n",
    "    return np.array([p, q, r])\n",
    "\n",
    "# single trajectory generator for L63\n",
    "def generate_trajectory(state0, dt, n_steps):\n",
    "    return odeint(lambda x, t: L63(x), state0, np.arange(0, n_steps*dt, dt))\n",
    "\n",
    "# multiple trajectories generator for L63\n",
    "@ut.timer\n",
    "def generate_trajectories(num_trajectories, dim, dt, n_steps, save_folder, name):\n",
    "    if not os.path.exists(save_folder):\n",
    "        os.makedirs(save_folder)\n",
    "    trajectories = np.zeros((num_trajectories, dim, n_steps))\n",
    "\n",
    "    random_points =  np.random.normal(size=(num_trajectories, dim))\n",
    "    generate = lambda *args: generate_trajectory(*args)[-1]\n",
    "    states0 = Parallel(n_jobs=-1)(delayed(generate)(random_points[i], dt, 2000) for i in range(num_trajectories))\n",
    "    results = Parallel(n_jobs=-1)(delayed(generate_trajectory)(state0, dt, n_steps) for state0 in states0)\n",
    "    for i in range(num_trajectories):\n",
    "        trajectories[i, :, :] = results[i].T \n",
    "    np.save('{}/{}.npy'.format(save_folder, name), trajectories)"
   ]
  },
  {
   "cell_type": "code",
   "execution_count": 11,
   "id": "8a1cbf29",
   "metadata": {},
   "outputs": [],
   "source": [
    "seed = 43\n",
    "np.random.seed(seed)\n",
    "save_folder='../data/L63-trajectories'\n",
    "dt = 0.02\n",
    "n_steps = 200000\n",
    "\n",
    "# find a point on the attractor\n",
    "random_point =  np.random.normal(size=3)\n",
    "attractor_point = generate_trajectory(random_point, 0.02, n_steps=200000)[-1]\n",
    "for i in range(25):\n",
    "    train = generate_trajectory(attractor_point, dt/(i+1), n_steps)\n",
    "    np.save('{}/{}.npy'.format(save_folder, f'train{i+1}'), train.T)"
   ]
  },
  {
   "cell_type": "code",
   "execution_count": 12,
   "id": "dab76226-8d78-42f4-8ddb-6b0b449f8a02",
   "metadata": {},
   "outputs": [
    {
     "name": "stdout",
     "output_type": "stream",
     "text": [
      "Time taken by generate_trajectories is 16.1835 seconds\n",
      "Time taken to generate test data = 16.18s\n"
     ]
    }
   ],
   "source": [
    "seed = 42\n",
    "np.random.seed(seed)\n",
    "num_trajectories = 5000\n",
    "\n",
    "states0 = []\n",
    "start = time.time()\n",
    "\n",
    "generate_trajectories(num_trajectories, dim, dt, 1000, save_folder, 'test')\n",
    "end = time.time()\n",
    "print(f\"Time taken to generate test data = {end-start:.2f}s\")"
   ]
  },
  {
   "cell_type": "code",
   "execution_count": null,
   "id": "1bc649a9-ae22-4523-87d9-850ad9db3eff",
   "metadata": {},
   "outputs": [],
   "source": []
  }
 ],
 "metadata": {
  "kernelspec": {
   "display_name": "Python 3 (ipykernel)",
   "language": "python",
   "name": "python3"
  },
  "language_info": {
   "codemirror_mode": {
    "name": "ipython",
    "version": 3
   },
   "file_extension": ".py",
   "mimetype": "text/x-python",
   "name": "python",
   "nbconvert_exporter": "python",
   "pygments_lexer": "ipython3",
   "version": "3.11.5"
  }
 },
 "nbformat": 4,
 "nbformat_minor": 5
}

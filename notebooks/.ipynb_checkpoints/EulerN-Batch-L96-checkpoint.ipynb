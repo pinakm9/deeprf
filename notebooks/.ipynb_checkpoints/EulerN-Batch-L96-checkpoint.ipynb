{
 "cells": [
  {
   "cell_type": "code",
   "execution_count": 1,
   "id": "4e736d7c-ed73-4a2f-bc17-115eb937027a",
   "metadata": {},
   "outputs": [],
   "source": [
    "import os, sys \n",
    "from pathlib import Path\n",
    "from os.path import dirname, realpath\n",
    "script_dir = Path(dirname(realpath('.')))\n",
    "module_dir = str(script_dir)\n",
    "sys.path.insert(0, module_dir + '/modules')\n",
    "import numpy as np\n",
    "import utility as ut\n",
    "import matplotlib.pyplot as plt\n",
    "import pandas as pd\n",
    "import warnings\n",
    "from scipy import stats\n",
    "import seaborn as sns\n",
    "import eulerN as arch \n",
    "import torch\n",
    "from torch import nn\n",
    "# warnings.filterwarnings('ignore')"
   ]
  },
  {
   "cell_type": "code",
   "execution_count": 6,
   "id": "7d73941f-4c78-4591-b411-e6db8a481a47",
   "metadata": {},
   "outputs": [],
   "source": [
    "Vo = np.load('../data/L96-trajectories/test.npy')\n",
    "L0, L1 = 0.4, 3.5\n",
    "beta = 7e-8\n",
    "training_points = 50000\n",
    "n_repeats = 100\n",
    "tau_f_kwargs = {'error_threshold' : 1.0, 'dt': 0.01, 'Lyapunov_time': 1/2.27}"
   ]
  },
  {
   "cell_type": "code",
   "execution_count": null,
   "id": "93fd1330-d493-4371-9531-dc0c1e9f53d8",
   "metadata": {},
   "outputs": [
    {
     "name": "stdout",
     "output_type": "stream",
     "text": [
      "Running experiments for batch 0...\n"
     ]
    }
   ],
   "source": [
    "D_r, B, batch_size, normalize = 256, 5, 100, False\n",
    "Uo = np.load(f'../data/L96-trajectories/train{B}.npy')\n",
    "drf_args = [D_r, B, L0, L1, Uo, beta, 'EulerN', f\"../data/EulerN/L96/depth-{B}/D_r-{D_r}{'' if not normalize else '-normalized'}\", normalize]\n",
    "batch = arch.BatchDeepRF(Uo, Vo, *drf_args)\n",
    "batch.run(training_points, n_repeats, batch_size, **tau_f_kwargs)"
   ]
  },
  {
   "cell_type": "code",
   "execution_count": null,
   "id": "e018bb9a-71da-4a35-a6d8-016249f8d179",
   "metadata": {},
   "outputs": [],
   "source": [
    "fig = plt.figure(figsize=(5, 5))\n",
    "ax = fig.add_subplot(111)\n",
    "tau_f = batch.get_data()['tau_f_nmse']\n",
    "sns.histplot(tau_f, ax=ax, label=r'$\\mathbb{E}[VPT]$'+f'={tau_f.mean():.2f}', alpha=0.7, stat='probability')\n",
    "ax.legend()\n",
    "ax.set_xlabel('')\n",
    "ax.set_ylabel('')\n",
    "ax.set_title(fr'architecture=EulerN, $D_r$={D_r}, depth={batch.drf.net.B}')\n",
    "plt.savefig(f'{batch.drf.save_folder}/tau_f_nmse.png', bbox_inches='tight', dpi=300)"
   ]
  },
  {
   "cell_type": "code",
   "execution_count": 31,
   "id": "6a5dac4e-defc-4ced-b899-5a1f4568342f",
   "metadata": {},
   "outputs": [
    {
     "data": {
      "text/plain": [
       "(800,)"
      ]
     },
     "execution_count": 31,
     "metadata": {},
     "output_type": "execute_result"
    }
   ],
   "source": [
    "test = np.random.normal(size=(3, 800))\n",
    "predicted = np.random.normal(size=(3, 800))\n",
    "std = test.std(axis=1)\n",
    "np.linalg.norm(((test - predicted) / std[:, np.newaxis])**2, axis=0).shape"
   ]
  },
  {
   "cell_type": "code",
   "execution_count": null,
   "id": "4d2bffcc-e921-4cf6-961f-d1bcaf211c6a",
   "metadata": {},
   "outputs": [],
   "source": []
  }
 ],
 "metadata": {
  "kernelspec": {
   "display_name": "Python 3 (ipykernel)",
   "language": "python",
   "name": "python3"
  },
  "language_info": {
   "codemirror_mode": {
    "name": "ipython",
    "version": 3
   },
   "file_extension": ".py",
   "mimetype": "text/x-python",
   "name": "python",
   "nbconvert_exporter": "python",
   "pygments_lexer": "ipython3",
   "version": "3.11.5"
  }
 },
 "nbformat": 4,
 "nbformat_minor": 5
}

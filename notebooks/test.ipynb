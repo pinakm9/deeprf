{
 "cells": [
  {
   "cell_type": "code",
   "execution_count": 1,
   "id": "cd63a819-818b-428f-8901-d3a8ab0f356f",
   "metadata": {},
   "outputs": [],
   "source": [
    "import os, sys \n",
    "from pathlib import Path\n",
    "from os.path import dirname, realpath\n",
    "script_dir = Path(dirname(realpath('.')))\n",
    "module_dir = str(script_dir)\n",
    "sys.path.insert(0, module_dir + '/modules')\n",
    "import numpy as np\n",
    "import utility as ut\n",
    "import matplotlib.pyplot as plt\n",
    "import pandas as pd\n",
    "import warnings\n",
    "from scipy import stats\n",
    "import seaborn as sns\n",
    "import oneshot as sm\n",
    "import deepskip as arch\n",
    "import eulerN as arch1\n",
    "import torch\n",
    "from torch import nn\n",
    "# warnings.filterwarnings('ignore'\n",
    "\n",
    "\n",
    "Uo1 = torch.tensor(np.load('../data/L63-trajectories/train1.npy'))\n",
    "# Uo2 = np.load('../data/L63-trajectories/train2.npy')\n",
    "# Uo3 = np.load('../data/L63-trajectories/train3.npy')\n",
    "# Uo4 = np.load('../data/L63-trajectories/train4.npy')\n",
    "# Uo5 = np.load('../data/L63-trajectories/train5.npy')\n",
    "# Uo6 = np.load('../data/L63-trajectories/train6.npy')\n",
    "# Uo7 = np.load('../data/L63-trajectories/train7.npy')\n",
    "# Uo8 = np.load('../data/L63-trajectories/train8.npy')\n",
    "# Uo9 = np.load('../data/L63-trajectories/train9.npy')\n",
    "# Uo10 = np.load('../data/L63-trajectories/train10.npy')\n",
    "\n",
    "Vo = torch.tensor(np.load('../data/L63-trajectories/test.npy'))\n",
    "L0, L1 = 0.4, 3.5\n",
    "D, D_r, B = 3, 128, 1\n",
    "beta = 7e-8\n",
    "m = 500\n",
    "data_folder = '../data'"
   ]
  },
  {
   "cell_type": "code",
   "execution_count": 2,
   "id": "854dbefc-3847-42de-bb62-8a8cf935e709",
   "metadata": {},
   "outputs": [
    {
     "name": "stdout",
     "output_type": "stream",
     "text": [
      "Time taken by compute_tau_f is 1.3567 seconds\n"
     ]
    },
    {
     "data": {
      "text/plain": [
       "tensor(8.9541)"
      ]
     },
     "execution_count": 2,
     "metadata": {},
     "output_type": "execute_result"
    }
   ],
   "source": [
    "drf = arch.DeepRF(512, 2, L0, L1, Uo1, beta, name='rf', save_folder=f'{data_folder}/DeepSkip/depth-{B}')\n",
    "# drf1 = arch1.DeepRF(512, B, L0, L1, Uo1, beta, name='rf', save_folder=f'{data_folder}/EulerN/depth-{B}')\n",
    "# u = torch.randn(size=(10000, 40))\n",
    "# drf.forecast(u).shape\n",
    "\n",
    "drf.learn(Uo1, 42)\n",
    "tau = drf.compute_tau_f(Vo[:500]);\n",
    "tau[1].mean()\n",
    "# drf.net.Ng, drf.net.G, drf.net.I"
   ]
  },
  {
   "cell_type": "code",
   "execution_count": 3,
   "id": "171049b2-cba0-4f9e-bd11-67b32ae7e87a",
   "metadata": {},
   "outputs": [],
   "source": [
    "test = Vo[:100]\n",
    "with torch.no_grad():\n",
    "            test.to(drf.device)\n",
    "            tau_f_se, tau_f_rmse = torch.zeros(len(test)).to(drf.device), torch.zeros(len(test)).to(drf.device)\n",
    "            drf.validation_points = test.shape[-1]\n",
    "            drf.error_threshold = 0.05\n",
    "            drf.dt = 0.02\n",
    "            drf.Lyapunov_time = 1/0.91\n",
    "            se, rmse = torch.zeros(len(test)).to(drf.device), torch.zeros(len(test)).to(drf.device)\n",
    "            forecast = drf.multistep_forecast \n",
    "          \n",
    "          \n",
    "            prediction = forecast(test[:,:,0], drf.validation_points)\n",
    "            se_ = torch.sum((test - prediction)**2, axis=1) / torch.sum(test**2, axis=1)\n",
    "            # mse_ = torch.cumsum(se_, dim=1) / torch.arange(1, se_.shape[1]+1).to(drf.device)\n",
    "    \n",
    "            \n",
    "            l = torch.argmax((se_ > drf.error_threshold).to(torch.long), dim=1)\n",
    "            l[l==0] = drf.validation_points\n",
    "            l[l>0] -= 1\n",
    "            tau_f_se = l * (drf.dt / drf.Lyapunov_time)\n",
    "\n",
    "\n",
    "            # l = torch.argmax((se_ > drf.error_threshold).to(torch.long))\n",
    "            # if l == 0:\n",
    "            #     tau_f_se[validation_index] = drf.validation_points\n",
    "            # else:\n",
    "            #     tau_f_se[validation_index] = l-1\n",
    "            \n",
    "            # rmse[validation_index] = torch.sqrt(mse_[-1])\n",
    "            # se[validation_index] = se_.mean()\n",
    "    \n",
    "                \n",
    "            \n",
    "            # tau_f_rmse *= \n",
    "            # tau_f_se *= (drf.dt / drf.Lyapunov_time)"
   ]
  },
  {
   "cell_type": "code",
   "execution_count": 4,
   "id": "75b4eab4-18d3-4995-88c3-d9e06f4aeea7",
   "metadata": {},
   "outputs": [
    {
     "data": {
      "text/plain": [
       "(array([ 3.,  3.,  2., 12., 18., 29., 13.,  7.,  9.,  4.]),\n",
       " array([ 4.6592,  5.4327,  6.2062,  6.9797,  7.7532,  8.5267,  9.3002,\n",
       "        10.0737, 10.8472, 11.6207, 12.3942]),\n",
       " <BarContainer object of 10 artists>)"
      ]
     },
     "execution_count": 4,
     "metadata": {},
     "output_type": "execute_result"
    },
    {
     "data": {
      "image/png": "[encoded data removed]",
      "text/plain": [
       "<Figure size 640x480 with 1 Axes>"
      ]
     },
     "metadata": {},
     "output_type": "display_data"
    }
   ],
   "source": [
    "plt.hist(tau_f_se)"
   ]
  },
  {
   "cell_type": "code",
   "execution_count": 9,
   "id": "38fc66e8-58fd-48c7-855f-ae0c5a8cd051",
   "metadata": {},
   "outputs": [
    {
     "data": {
      "text/plain": [
       "tensor(0.0570)"
      ]
     },
     "execution_count": 9,
     "metadata": {},
     "output_type": "execute_result"
    }
   ],
   "source": [
    "tau_f_se.mean()"
   ]
  },
  {
   "cell_type": "code",
   "execution_count": 2,
   "id": "c1a7628f-db20-4a10-abf0-e94702889a53",
   "metadata": {},
   "outputs": [],
   "source": [
    "description = \"This experiment tests the class ExperimentLogger.This class is meant logging experiments easier.\"\n",
    "el = ut.ExperimentLogger('../data', description)\n",
    "el.add(rf1)"
   ]
  },
  {
   "cell_type": "code",
   "execution_count": 3,
   "id": "bcebe991-cc1b-43ec-a316-5b725adcc2ba",
   "metadata": {},
   "outputs": [
    {
     "data": {
      "text/plain": [
       "tensor([[36, 37, 38, 39,  0,  1,  2,  3,  4,  5],\n",
       "        [38, 39,  0,  1,  2,  3,  4,  5,  6,  7],\n",
       "        [ 0,  1,  2,  3,  4,  5,  6,  7,  8,  9],\n",
       "        [ 2,  3,  4,  5,  6,  7,  8,  9, 10, 11],\n",
       "        [ 4,  5,  6,  7,  8,  9, 10, 11, 12, 13],\n",
       "        [ 6,  7,  8,  9, 10, 11, 12, 13, 14, 15],\n",
       "        [ 8,  9, 10, 11, 12, 13, 14, 15, 16, 17],\n",
       "        [10, 11, 12, 13, 14, 15, 16, 17, 18, 19],\n",
       "        [12, 13, 14, 15, 16, 17, 18, 19, 20, 21],\n",
       "        [14, 15, 16, 17, 18, 19, 20, 21, 22, 23],\n",
       "        [16, 17, 18, 19, 20, 21, 22, 23, 24, 25],\n",
       "        [18, 19, 20, 21, 22, 23, 24, 25, 26, 27],\n",
       "        [20, 21, 22, 23, 24, 25, 26, 27, 28, 29],\n",
       "        [22, 23, 24, 25, 26, 27, 28, 29, 30, 31],\n",
       "        [24, 25, 26, 27, 28, 29, 30, 31, 32, 33],\n",
       "        [26, 27, 28, 29, 30, 31, 32, 33, 34, 35],\n",
       "        [28, 29, 30, 31, 32, 33, 34, 35, 36, 37],\n",
       "        [30, 31, 32, 33, 34, 35, 36, 37, 38, 39],\n",
       "        [32, 33, 34, 35, 36, 37, 38, 39,  0,  1],\n",
       "        [34, 35, 36, 37, 38, 39,  0,  1,  2,  3]])"
      ]
     },
     "execution_count": 3,
     "metadata": {},
     "output_type": "execute_result"
    }
   ],
   "source": [
    "a = torch.arange(-2, 3).reshape(-1, 1)\n",
    "a = 2*((a + 0) % 20)\n",
    "a = torch.cat([a, a+1], dim=1).flatten()\n",
    "a = torch.vstack([(a + 2*i) % 40 for i in range(20)])\n",
    "a"
   ]
  },
  {
   "cell_type": "code",
   "execution_count": 10,
   "id": "9536f7e6-1856-4c80-970a-288ebc643d5b",
   "metadata": {},
   "outputs": [
    {
     "data": {
      "text/plain": [
       "tensor([[ 0,  1],\n",
       "        [ 2,  3],\n",
       "        [ 4,  5],\n",
       "        [ 6,  7],\n",
       "        [ 8,  9],\n",
       "        [10, 11],\n",
       "        [12, 13],\n",
       "        [14, 15],\n",
       "        [16, 17],\n",
       "        [18, 19],\n",
       "        [20, 21],\n",
       "        [22, 23],\n",
       "        [24, 25],\n",
       "        [26, 27],\n",
       "        [28, 29],\n",
       "        [30, 31],\n",
       "        [32, 33],\n",
       "        [34, 35],\n",
       "        [36, 37],\n",
       "        [38, 39]])"
      ]
     },
     "execution_count": 10,
     "metadata": {},
     "output_type": "execute_result"
    }
   ],
   "source": [
    "a = torch.arange(0, 2)#.reshape(-1, 1)\n",
    "# a = 2*((a + 0) % 20)\n",
    "# a = torch.cat([a, a+1], dim=1).flatten()\n",
    "a = torch.vstack([(a + 2*i) % 40 for i in range(20)])\n",
    "a"
   ]
  },
  {
   "cell_type": "code",
   "execution_count": 7,
   "id": "c3e156e0-235d-4256-abd8-c4b27f41ef8e",
   "metadata": {},
   "outputs": [
    {
     "data": {
      "text/plain": [
       "torch.Size([4000000, 10])"
      ]
     },
     "execution_count": 7,
     "metadata": {},
     "output_type": "execute_result"
    }
   ],
   "source": [
    "Uo1.T[..., a].flatten(0, 1).shape"
   ]
  },
  {
   "cell_type": "code",
   "execution_count": 4,
   "id": "ee7345f0-4dea-44bf-9729-fe0113c2c4b1",
   "metadata": {},
   "outputs": [
    {
     "data": {
      "text/plain": [
       "torch.Size([40, 200000])"
      ]
     },
     "execution_count": 4,
     "metadata": {},
     "output_type": "execute_result"
    }
   ],
   "source": [
    "Uo1.shape"
   ]
  },
  {
   "cell_type": "code",
   "execution_count": 5,
   "id": "fa3babbc-fdf2-4e59-8f0b-a0b45a0b5e04",
   "metadata": {},
   "outputs": [],
   "source": [
    "L = torch.nn.Linear(2, 3)"
   ]
  },
  {
   "cell_type": "code",
   "execution_count": 10,
   "id": "ff77f510-1429-4095-a23b-b162f7f5861c",
   "metadata": {},
   "outputs": [
    {
     "data": {
      "text/plain": [
       "tensor([[[True, True, True],\n",
       "         [True, True, True]],\n",
       "\n",
       "        [[True, True, True],\n",
       "         [True, True, True]]])"
      ]
     },
     "execution_count": 10,
     "metadata": {},
     "output_type": "execute_result"
    }
   ],
   "source": [
    "x = torch.tensor([[-1, 2.], [2., 3.]])\n",
    "y = torch.tensor([[-1, 8.], [0., 3.]])\n",
    "z = torch.stack([x, y], axis=0)\n",
    "L(x)\n",
    "L(z) == torch.stack([L(x), L(y)], axis=0)"
   ]
  },
  {
   "cell_type": "code",
   "execution_count": 7,
   "id": "5bf07bd8-d580-4186-a8e4-d2aa4aec29b8",
   "metadata": {},
   "outputs": [
    {
     "data": {
      "text/plain": [
       "26624"
      ]
     },
     "execution_count": 7,
     "metadata": {},
     "output_type": "execute_result"
    }
   ],
   "source": [
    "drf.count_params()"
   ]
  },
  {
   "cell_type": "code",
   "execution_count": 6,
   "id": "e7c357e9-7241-4f7b-8587-cb18fa47dce0",
   "metadata": {},
   "outputs": [
    {
     "data": {
      "text/plain": [
       "(array([ 12.,  30.,  60.,  87., 110.,  79.,  67.,  30.,  19.,   6.]),\n",
       " array([1.183  , 1.47238, 1.76176, 2.05114, 2.34052, 2.6299 , 2.91928,\n",
       "        3.20866, 3.49804, 3.78742, 4.0768 ]),\n",
       " <BarContainer object of 10 artists>)"
      ]
     },
     "execution_count": 6,
     "metadata": {},
     "output_type": "execute_result"
    },
    {
     "data": {
      "image/png": "[encoded data removed]",
      "text/plain": [
       "<Figure size 640x480 with 1 Axes>"
      ]
     },
     "metadata": {},
     "output_type": "display_data"
    }
   ],
   "source": [
    "plt.hist(tau[0])"
   ]
  },
  {
   "cell_type": "code",
   "execution_count": 3,
   "id": "55269f4f-aeef-4f1b-94d8-0843220c85f8",
   "metadata": {},
   "outputs": [],
   "source": [
    "a = torch.randn(size=(10, 3))"
   ]
  },
  {
   "cell_type": "code",
   "execution_count": 4,
   "id": "0e6ffd57-e9d4-452d-8efa-e4e24b9751f2",
   "metadata": {},
   "outputs": [
    {
     "data": {
      "text/plain": [
       "torch.Size([6, 200000])"
      ]
     },
     "execution_count": 4,
     "metadata": {},
     "output_type": "execute_result"
    }
   ],
   "source": [
    ".shape"
   ]
  },
  {
   "cell_type": "code",
   "execution_count": 7,
   "id": "63fd8cbe-ebb7-4f7f-b6cc-bc8e71f20cc3",
   "metadata": {},
   "outputs": [
    {
     "data": {
      "text/plain": [
       "torch.Size([10, 7])"
      ]
     },
     "execution_count": 7,
     "metadata": {},
     "output_type": "execute_result"
    }
   ],
   "source": [
    "drf.sampler.update(torch.vstack((Uo1, Uo1)))\n",
    "drf.sampler.sample_vec(10).shape"
   ]
  },
  {
   "cell_type": "code",
   "execution_count": null,
   "id": "de24c7be-4622-4997-8fff-403285872109",
   "metadata": {},
   "outputs": [],
   "source": []
  }
 ],
 "metadata": {
  "kernelspec": {
   "display_name": "Python 3 (ipykernel)",
   "language": "python",
   "name": "python3"
  },
  "language_info": {
   "codemirror_mode": {
    "name": "ipython",
    "version": 3
   },
   "file_extension": ".py",
   "mimetype": "text/x-python",
   "name": "python",
   "nbconvert_exporter": "python",
   "pygments_lexer": "ipython3",
   "version": "3.11.5"
  }
 },
 "nbformat": 4,
 "nbformat_minor": 5
}

{
 "cells": [
  {
   "cell_type": "code",
   "execution_count": 1,
   "id": "cd63a819-818b-428f-8901-d3a8ab0f356f",
   "metadata": {},
   "outputs": [],
   "source": [
    "import os, sys \n",
    "from pathlib import Path\n",
    "from os.path import dirname, realpath\n",
    "script_dir = Path(dirname(realpath('.')))\n",
    "module_dir = str(script_dir)\n",
    "sys.path.insert(0, module_dir + '/modules')\n",
    "import numpy as np\n",
    "import utility as ut\n",
    "import matplotlib.pyplot as plt\n",
    "import pandas as pd\n",
    "import warnings\n",
    "from scipy import stats\n",
    "import seaborn as sns\n",
    "import oneshot as sm\n",
    "import eulerN as arch \n",
    "import torch\n",
    "from torch import nn\n",
    "# warnings.filterwarnings('ignore'\n",
    "\n",
    "\n",
    "Uo1 = torch.tensor(np.load('../data/L63-trajectories/train1.npy'))\n",
    "Uo2 = np.load('../data/L63-trajectories/train2.npy')\n",
    "Uo3 = np.load('../data/L63-trajectories/train3.npy')\n",
    "Uo4 = np.load('../data/L63-trajectories/train4.npy')\n",
    "Uo5 = np.load('../data/L63-trajectories/train5.npy')\n",
    "Uo6 = np.load('../data/L63-trajectories/train6.npy')\n",
    "Uo7 = np.load('../data/L63-trajectories/train7.npy')\n",
    "Uo8 = np.load('../data/L63-trajectories/train8.npy')\n",
    "Uo9 = np.load('../data/L63-trajectories/train9.npy')\n",
    "Uo10 = np.load('../data/L63-trajectories/train10.npy')\n",
    "\n",
    "Vo = torch.tensor(np.load('../data/L63-trajectories/test.npy'))\n",
    "L0, L1 = 0.4, 3.5\n",
    "D, D_r, B = 3, 128, 1\n",
    "beta = 7e-8\n",
    "m = 500\n",
    "data_folder = '../data'"
   ]
  },
  {
   "cell_type": "code",
   "execution_count": 4,
   "id": "854dbefc-3847-42de-bb62-8a8cf935e709",
   "metadata": {},
   "outputs": [
    {
     "name": "stdout",
     "output_type": "stream",
     "text": [
      "Time taken by sample is 0.1577 seconds\n",
      "Time taken by learn is 4.0871 seconds\n",
      "Time taken by compute_tau_f is 2.9608 seconds\n"
     ]
    }
   ],
   "source": [
    "drf = arch.DeepRF(2048, B, L0, L1, Uo1, beta, name='rf', save_folder=f'{data_folder}/EulerN/depth-{B}')\n",
    "drf.learn(Uo1, 42)\n",
    "drf.compute_tau_f(Vo[:500]);"
   ]
  },
  {
   "cell_type": "code",
   "execution_count": 3,
   "id": "171049b2-cba0-4f9e-bd11-67b32ae7e87a",
   "metadata": {},
   "outputs": [],
   "source": [
    "test = Vo[:100]\n",
    "with torch.no_grad():\n",
    "            test.to(drf.device)\n",
    "            tau_f_se, tau_f_rmse = torch.zeros(len(test)).to(drf.device), torch.zeros(len(test)).to(drf.device)\n",
    "            drf.validation_points = test.shape[-1]\n",
    "            drf.error_threshold = 0.05\n",
    "            drf.dt = 0.02\n",
    "            drf.Lyapunov_time = 1/0.91\n",
    "            se, rmse = torch.zeros(len(test)).to(drf.device), torch.zeros(len(test)).to(drf.device)\n",
    "            forecast = drf.multistep_forecast \n",
    "          \n",
    "          \n",
    "            prediction = forecast(test[:,:,0], drf.validation_points)\n",
    "            se_ = torch.sum((test - prediction)**2, axis=1) / torch.sum(test**2, axis=1)\n",
    "            # mse_ = torch.cumsum(se_, dim=1) / torch.arange(1, se_.shape[1]+1).to(drf.device)\n",
    "    \n",
    "            \n",
    "            l = torch.argmax((se_ > drf.error_threshold).to(torch.long), dim=1)\n",
    "            l[l==0] = drf.validation_points\n",
    "            l[l>0] -= 1\n",
    "            tau_f_se = l * (drf.dt / drf.Lyapunov_time)\n",
    "\n",
    "\n",
    "            # l = torch.argmax((se_ > drf.error_threshold).to(torch.long))\n",
    "            # if l == 0:\n",
    "            #     tau_f_se[validation_index] = drf.validation_points\n",
    "            # else:\n",
    "            #     tau_f_se[validation_index] = l-1\n",
    "            \n",
    "            # rmse[validation_index] = torch.sqrt(mse_[-1])\n",
    "            # se[validation_index] = se_.mean()\n",
    "    \n",
    "                \n",
    "            \n",
    "            # tau_f_rmse *= \n",
    "            # tau_f_se *= (drf.dt / drf.Lyapunov_time)"
   ]
  },
  {
   "cell_type": "code",
   "execution_count": 33,
   "id": "75b4eab4-18d3-4995-88c3-d9e06f4aeea7",
   "metadata": {},
   "outputs": [
    {
     "data": {
      "text/plain": [
       "(array([ 2.,  9., 16., 27., 26., 12.,  5.,  2.,  0.,  1.]),\n",
       " array([ 3.8766 ,  4.78842,  5.70024,  6.61206,  7.52388,  8.4357 ,\n",
       "         9.34752, 10.25934, 11.17116, 12.08298, 12.9948 ]),\n",
       " <BarContainer object of 10 artists>)"
      ]
     },
     "execution_count": 33,
     "metadata": {},
     "output_type": "execute_result"
    },
    {
     "data": {
      "image/png": "[encoded data removed]",
      "text/plain": [
       "<Figure size 640x480 with 1 Axes>"
      ]
     },
     "metadata": {},
     "output_type": "display_data"
    }
   ],
   "source": [
    "plt.hist(tau_f_se)"
   ]
  },
  {
   "cell_type": "code",
   "execution_count": 9,
   "id": "38fc66e8-58fd-48c7-855f-ae0c5a8cd051",
   "metadata": {},
   "outputs": [
    {
     "data": {
      "text/plain": [
       "tensor(0.0570)"
      ]
     },
     "execution_count": 9,
     "metadata": {},
     "output_type": "execute_result"
    }
   ],
   "source": [
    "tau_f_se.mean()"
   ]
  },
  {
   "cell_type": "code",
   "execution_count": 2,
   "id": "c1a7628f-db20-4a10-abf0-e94702889a53",
   "metadata": {},
   "outputs": [],
   "source": [
    "description = \"This experiment tests the class ExperimentLogger.This class is meant logging experiments easier.\"\n",
    "el = ut.ExperimentLogger('../data', description)\n",
    "el.add(rf1)"
   ]
  },
  {
   "cell_type": "code",
   "execution_count": 4,
   "id": "152c5e7e-3214-4850-8463-ce3ea865c4d4",
   "metadata": {},
   "outputs": [],
   "source": [
    "u = torch.randn(size=(100, 3, 1000))\n",
    "v = torch.rand(size=(3,))"
   ]
  },
  {
   "cell_type": "code",
   "execution_count": 5,
   "id": "36af43df-473a-4aa4-af48-83de6e1be0b8",
   "metadata": {},
   "outputs": [
    {
     "data": {
      "text/plain": [
       "tensor([[[-3.5993,  1.3222, -0.5173,  ...,  0.4573,  2.8793, -1.0779],\n",
       "         [ 0.8935, -1.8705,  1.4385,  ...,  1.0063, -2.1321,  2.3312],\n",
       "         [ 1.6556, -0.6227, -0.1012,  ...,  1.1691, -0.5597, -0.8853]],\n",
       "\n",
       "        [[ 0.0500,  1.5609,  2.0837,  ...,  0.1753,  0.2229, -1.6152],\n",
       "         [-0.0813,  0.3593, -1.0279,  ...,  1.1630,  1.7819,  0.0938],\n",
       "         [-0.6427,  0.8120, -0.8345,  ...,  0.4540, -2.4000, -2.4228]],\n",
       "\n",
       "        [[ 0.9281, -0.5818, -2.3651,  ..., -3.4366,  0.7950, -3.1214],\n",
       "         [-1.3861,  0.6196,  1.8902,  ...,  0.1593,  1.6506,  1.0568],\n",
       "         [-1.8919, -1.9876,  0.8293,  ...,  1.0532, -2.6866,  2.1978]],\n",
       "\n",
       "        ...,\n",
       "\n",
       "        [[ 0.9742, -0.1608, -0.3344,  ...,  0.1062,  1.8723,  2.3958],\n",
       "         [ 1.8034, -0.3996,  0.0736,  ...,  1.0390, -1.8491,  0.5311],\n",
       "         [-0.2268,  2.7024,  1.2423,  ...,  1.7986, -1.3464, -1.3865]],\n",
       "\n",
       "        [[ 3.3774, -3.0372,  0.8355,  ..., -3.0964,  0.6117, -0.0855],\n",
       "         [ 3.1302,  0.7854, -2.2922,  ..., -2.2116,  0.4221,  0.4340],\n",
       "         [-0.2474, -0.6631,  0.1766,  ...,  0.8998, -1.5970, -0.1421]],\n",
       "\n",
       "        [[ 0.0343,  2.7982,  1.3670,  ..., -0.8430,  6.0561, -0.8933],\n",
       "         [ 0.4064, -0.6926,  0.9138,  ..., -1.8542,  0.6113, -1.2692],\n",
       "         [-2.0017,  0.7832, -1.6224,  ...,  0.9343,  0.9542, -1.0814]]])"
      ]
     },
     "execution_count": 5,
     "metadata": {},
     "output_type": "execute_result"
    }
   ],
   "source": [
    "u/v[None, :, None]"
   ]
  },
  {
   "cell_type": "code",
   "execution_count": null,
   "id": "70e9621a-2861-4ffe-8ea1-83c18448d564",
   "metadata": {},
   "outputs": [],
   "source": []
  }
 ],
 "metadata": {
  "kernelspec": {
   "display_name": "Python 3 (ipykernel)",
   "language": "python",
   "name": "python3"
  },
  "language_info": {
   "codemirror_mode": {
    "name": "ipython",
    "version": 3
   },
   "file_extension": ".py",
   "mimetype": "text/x-python",
   "name": "python",
   "nbconvert_exporter": "python",
   "pygments_lexer": "ipython3",
   "version": "3.11.5"
  }
 },
 "nbformat": 4,
 "nbformat_minor": 5
}

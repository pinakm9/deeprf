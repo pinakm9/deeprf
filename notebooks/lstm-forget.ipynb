{
 "cells": [
  {
   "cell_type": "code",
   "execution_count": 1,
   "id": "4e736d7c-ed73-4a2f-bc17-115eb937027a",
   "metadata": {},
   "outputs": [],
   "source": [
    "import os, sys \n",
    "from pathlib import Path\n",
    "from os.path import dirname, realpath\n",
    "script_dir = Path(dirname(realpath('.')))\n",
    "module_dir = str(script_dir)\n",
    "sys.path.insert(0, module_dir + '/modules')\n",
    "import numpy as np\n",
    "import utility as ut\n",
    "import matplotlib.pyplot as plt\n",
    "import pandas as pd\n",
    "import warnings\n",
    "from scipy import stats\n",
    "import seaborn as sns\n",
    "import sample as sm\n",
    "import lstm_forget as arch \n",
    "import torch\n",
    "# warnings.filterwarnings('ignore')"
   ]
  },
  {
   "cell_type": "code",
   "execution_count": 2,
   "id": "7d73941f-4c78-4591-b411-e6db8a481a47",
   "metadata": {},
   "outputs": [],
   "source": [
    "Uo = np.load('../data/L63-trajectories/train.npy')[:, :20000].astype(np.float32)\n",
    "Vo = np.load('../data/L63-trajectories/test.npy').astype(np.float32)\n",
    "L0, L1 = 0.4, 3.5\n",
    "D, D_r, B = 3, 256, 2\n",
    "beta = 4e-5\n",
    "m = 5\n",
    "E = 10"
   ]
  },
  {
   "cell_type": "code",
   "execution_count": 3,
   "id": "93fd1330-d493-4371-9531-dc0c1e9f53d8",
   "metadata": {},
   "outputs": [
    {
     "name": "stdout",
     "output_type": "stream",
     "text": [
      "epoch=0.000\tloss=145745.358\tchange=nan\tlr=0.000\ttime=0.193\t\n",
      "epoch=1.000\tloss=128872.198\tchange=-0.116\tlr=0.000\ttime=0.186\t\n",
      "epoch=2.000\tloss=112852.538\tchange=-0.124\tlr=0.000\ttime=0.196\t\n",
      "epoch=3.000\tloss=97941.386\tchange=-0.132\tlr=0.000\ttime=0.187\t\n",
      "epoch=4.000\tloss=84530.169\tchange=-0.137\tlr=0.000\ttime=0.187\t\n",
      "epoch=5.000\tloss=72531.539\tchange=-0.142\tlr=0.000\ttime=0.186\t\n",
      "epoch=6.000\tloss=61940.929\tchange=-0.146\tlr=0.000\ttime=0.196\t\n",
      "epoch=7.000\tloss=52878.771\tchange=-0.146\tlr=0.000\ttime=0.264\t\n",
      "epoch=8.000\tloss=45295.921\tchange=-0.143\tlr=0.000\ttime=0.260\t\n",
      "epoch=9.000\tloss=38988.450\tchange=-0.139\tlr=0.000\ttime=0.221\t\n",
      "Time taken by compute_tau_f_ is 0.4115 seconds\n"
     ]
    }
   ],
   "source": [
    "B = 1\n",
    "nn1 = arch.DeepRF(D_r, B, L0, L1, Uo, name=f'nn', save_folder=f'../data/lstm-forget/depth-{B}')\n",
    "nn1.train(epochs=E, learning_rate=1e-4, batch_size=200, update_fraction=0.1, update_threshold=-1e-4)\n",
    "tau1 = nn1.compute_tau_f_(Vo[0:m])"
   ]
  },
  {
   "cell_type": "code",
   "execution_count": 4,
   "id": "218c6d72-bfdc-4e95-98da-d0d5eaa87bcd",
   "metadata": {},
   "outputs": [
    {
     "name": "stdout",
     "output_type": "stream",
     "text": [
      "epoch=0.000\tloss=144174.163\tchange=nan\tlr=0.000\ttime=0.433\t\n",
      "epoch=1.000\tloss=116406.720\tchange=-0.193\tlr=0.000\ttime=0.403\t\n",
      "epoch=2.000\tloss=93531.399\tchange=-0.197\tlr=0.000\ttime=0.400\t\n",
      "epoch=3.000\tloss=74536.414\tchange=-0.203\tlr=0.000\ttime=0.410\t\n",
      "epoch=4.000\tloss=58930.362\tchange=-0.209\tlr=0.000\ttime=0.407\t\n",
      "epoch=5.000\tloss=46693.769\tchange=-0.208\tlr=0.000\ttime=0.400\t\n",
      "epoch=6.000\tloss=37018.357\tchange=-0.207\tlr=0.000\ttime=0.398\t\n",
      "epoch=7.000\tloss=29590.489\tchange=-0.201\tlr=0.000\ttime=0.394\t\n",
      "epoch=8.000\tloss=23936.768\tchange=-0.191\tlr=0.000\ttime=0.395\t\n",
      "epoch=9.000\tloss=19530.974\tchange=-0.184\tlr=0.000\ttime=0.395\t\n",
      "Time taken by compute_tau_f_ is 0.4123 seconds\n"
     ]
    }
   ],
   "source": [
    "B = 2\n",
    "nn2 = arch.DeepRF(D_r, B, L0, L1, Uo, name=f'nn', save_folder=f'../data/lstm-forget/depth-{B}')\n",
    "nn2.train(epochs=E, learning_rate=1e-4, batch_size=200, update_fraction=0.1, update_threshold=-1e-4)\n",
    "tau2 = nn1.compute_tau_f_(Vo[0:m])"
   ]
  },
  {
   "cell_type": "code",
   "execution_count": 5,
   "id": "db14f891-ecce-4960-a278-6b7ab9635acf",
   "metadata": {},
   "outputs": [
    {
     "name": "stdout",
     "output_type": "stream",
     "text": [
      "epoch=0.000\tloss=133791.000\tchange=nan\tlr=0.000\ttime=0.617\t\n",
      "epoch=1.000\tloss=100811.251\tchange=-0.247\tlr=0.000\ttime=0.617\t\n",
      "epoch=2.000\tloss=76650.324\tchange=-0.240\tlr=0.000\ttime=0.605\t\n",
      "epoch=3.000\tloss=59555.265\tchange=-0.223\tlr=0.000\ttime=0.603\t\n",
      "epoch=4.000\tloss=46811.572\tchange=-0.214\tlr=0.000\ttime=0.603\t\n",
      "epoch=5.000\tloss=37177.272\tchange=-0.206\tlr=0.000\ttime=0.603\t\n",
      "epoch=6.000\tloss=29942.549\tchange=-0.195\tlr=0.000\ttime=0.604\t\n",
      "epoch=7.000\tloss=24417.075\tchange=-0.185\tlr=0.000\ttime=0.599\t\n",
      "epoch=8.000\tloss=20091.731\tchange=-0.177\tlr=0.000\ttime=0.599\t\n",
      "epoch=9.000\tloss=16664.527\tchange=-0.171\tlr=0.000\ttime=0.604\t\n",
      "Time taken by compute_tau_f_ is 0.4232 seconds\n"
     ]
    }
   ],
   "source": [
    "B = 3\n",
    "nn3 = arch.DeepRF(D_r, B, L0, L1, Uo, name=f'nn', save_folder=f'../data/lstm-forget/depth-{B}')\n",
    "nn3.train(epochs=E, learning_rate=1e-4, batch_size=200, update_fraction=0.1, update_threshold=-1e-4)\n",
    "tau3 = nn1.compute_tau_f_(Vo[0:m])"
   ]
  },
  {
   "cell_type": "code",
   "execution_count": 6,
   "id": "ce0cc895-e1ff-49de-907a-3c76f5f08f44",
   "metadata": {},
   "outputs": [
    {
     "name": "stdout",
     "output_type": "stream",
     "text": [
      "epoch=0.000\tloss=121821.470\tchange=nan\tlr=0.000\ttime=2.158\t\n",
      "epoch=1.000\tloss=82116.763\tchange=-0.326\tlr=0.000\ttime=2.131\t\n",
      "epoch=2.000\tloss=61245.013\tchange=-0.254\tlr=0.000\ttime=2.134\t\n",
      "epoch=3.000\tloss=47651.423\tchange=-0.222\tlr=0.000\ttime=2.146\t\n",
      "epoch=4.000\tloss=37980.385\tchange=-0.203\tlr=0.000\ttime=2.130\t\n",
      "epoch=5.000\tloss=30752.205\tchange=-0.190\tlr=0.000\ttime=2.133\t\n",
      "epoch=6.000\tloss=25197.790\tchange=-0.181\tlr=0.000\ttime=2.136\t\n",
      "epoch=7.000\tloss=20843.071\tchange=-0.173\tlr=0.000\ttime=2.162\t\n",
      "epoch=8.000\tloss=17356.193\tchange=-0.167\tlr=0.000\ttime=2.133\t\n",
      "epoch=9.000\tloss=14546.390\tchange=-0.162\tlr=0.000\ttime=2.130\t\n",
      "Time taken by compute_tau_f_ is 0.4230 seconds\n"
     ]
    }
   ],
   "source": [
    "B = 10\n",
    "nn10 = arch.DeepRF(D_r, B, L0, L1, Uo, name=f'nn', save_folder=f'../data/lstm-forget/depth-{B}')\n",
    "nn10.train(epochs=E, learning_rate=1e-4, batch_size=200, update_fraction=0.1, update_threshold=-1e-4)\n",
    "tau10 = nn1.compute_tau_f_(Vo[0:m])"
   ]
  },
  {
   "cell_type": "code",
   "execution_count": 7,
   "id": "e018bb9a-71da-4a35-a6d8-016249f8d179",
   "metadata": {},
   "outputs": [
    {
     "data": {
      "image/png": "[encoded data removed]",
      "text/plain": [
       "<Figure size 500x500 with 1 Axes>"
      ]
     },
     "metadata": {},
     "output_type": "display_data"
    }
   ],
   "source": [
    "fig = plt.figure(figsize=(5, 5))\n",
    "ax = fig.add_subplot(111)\n",
    "sns.histplot(tau1[1], ax=ax, label=r'depth=1, $\\mathbb{E}[\\tau_f]$'+f'={tau1[1].mean():.2f}', alpha=0.7, stat='probability')\n",
    "sns.histplot(tau2[1], ax=ax, label=r'depth=2, $\\mathbb{E}[\\tau_f]$'+f'={tau2[1].mean():.2f}', alpha=0.7, stat='probability')\n",
    "sns.histplot(tau3[1], ax=ax, label=r'depth=3, $\\mathbb{E}[\\tau_f]$'+f'={tau3[1].mean():.2f}', alpha=0.7, stat='probability')\n",
    "sns.histplot(tau10[1], ax=ax, label=r'depth=10, $\\mathbb{E}[\\tau_f]$'+f'={tau10[1].mean():.2f}', alpha=0.7, stat='probability')\n",
    "ax.legend()\n",
    "ax.set_title(fr'$\\tau_f$, architecture=LSTM-Forget, $D_r$={D_r}')\n",
    "plt.savefig('../data/plots/lstm-forget-tau_f.png', bbox_inches='tight', dpi=300)"
   ]
  },
  {
   "cell_type": "code",
   "execution_count": 13,
   "id": "ba462806-e3d2-46b0-a444-fed4923c3196",
   "metadata": {},
   "outputs": [],
   "source": [
    "f=lambda B, D_r:4*B*D_r*(D+D_r+1)+D*D_r"
   ]
  },
  {
   "cell_type": "code",
   "execution_count": 14,
   "id": "119ecef4-a3b1-4353-9cf1-cb113ebd88c8",
   "metadata": {},
   "outputs": [
    {
     "data": {
      "text/plain": [
       "267008"
      ]
     },
     "execution_count": 14,
     "metadata": {},
     "output_type": "execute_result"
    }
   ],
   "source": [
    "f(1, 256)"
   ]
  },
  {
   "cell_type": "code",
   "execution_count": 16,
   "id": "5a0f1f03-ad82-4942-bd26-3ce55067a780",
   "metadata": {},
   "outputs": [
    {
     "data": {
      "text/plain": [
       "3"
      ]
     },
     "execution_count": 16,
     "metadata": {},
     "output_type": "execute_result"
    }
   ],
   "source": [
    "D"
   ]
  },
  {
   "cell_type": "code",
   "execution_count": 20,
   "id": "fc0605bf-44af-4c40-b4f6-18ad948a5272",
   "metadata": {},
   "outputs": [
    {
     "name": "stdout",
     "output_type": "stream",
     "text": [
      "=================================================================\n",
      "Layer (type:depth-idx)                   Param #\n",
      "=================================================================\n",
      "├─ModuleList: 1-1                        --\n",
      "|    └─Forget_Block: 2-1                 --\n",
      "|    |    └─Linear: 3-1                  1,024\n",
      "|    |    └─Linear: 3-2                  65,536\n",
      "|    |    └─Linear: 3-3                  1,024\n",
      "|    |    └─Linear: 3-4                  65,536\n",
      "|    |    └─Linear: 3-5                  1,024\n",
      "|    |    └─Linear: 3-6                  65,536\n",
      "|    |    └─Linear: 3-7                  1,024\n",
      "|    |    └─Linear: 3-8                  65,536\n",
      "├─Linear: 1-2                            768\n",
      "=================================================================\n",
      "Total params: 267,008\n",
      "Trainable params: 267,008\n",
      "Non-trainable params: 0\n",
      "=================================================================\n"
     ]
    },
    {
     "data": {
      "text/plain": [
       "=================================================================\n",
       "Layer (type:depth-idx)                   Param #\n",
       "=================================================================\n",
       "├─ModuleList: 1-1                        --\n",
       "|    └─Forget_Block: 2-1                 --\n",
       "|    |    └─Linear: 3-1                  1,024\n",
       "|    |    └─Linear: 3-2                  65,536\n",
       "|    |    └─Linear: 3-3                  1,024\n",
       "|    |    └─Linear: 3-4                  65,536\n",
       "|    |    └─Linear: 3-5                  1,024\n",
       "|    |    └─Linear: 3-6                  65,536\n",
       "|    |    └─Linear: 3-7                  1,024\n",
       "|    |    └─Linear: 3-8                  65,536\n",
       "├─Linear: 1-2                            768\n",
       "=================================================================\n",
       "Total params: 267,008\n",
       "Trainable params: 267,008\n",
       "Non-trainable params: 0\n",
       "================================================================="
      ]
     },
     "execution_count": 20,
     "metadata": {},
     "output_type": "execute_result"
    }
   ],
   "source": [
    "from torchvision import models\n",
    "from torchsummary import summary\n",
    "\n",
    "summary(nn1.net)"
   ]
  },
  {
   "cell_type": "code",
   "execution_count": 26,
   "id": "85ee2992-b0f7-45d3-8b00-08851f2b5a64",
   "metadata": {},
   "outputs": [
    {
     "name": "stdout",
     "output_type": "stream",
     "text": [
      "768\n",
      "256\n",
      "65536\n",
      "768\n",
      "256\n",
      "65536\n",
      "768\n",
      "256\n",
      "65536\n",
      "768\n",
      "256\n",
      "65536\n",
      "768\n"
     ]
    }
   ],
   "source": [
    "for p in nn1.net.parameters():\n",
    "    if p.requires_grad:\n",
    "        print(p.numel())"
   ]
  },
  {
   "cell_type": "code",
   "execution_count": 27,
   "id": "ae688986-935f-420a-9a4c-38e74e49fa69",
   "metadata": {},
   "outputs": [
    {
     "data": {
      "text/plain": [
       "267008"
      ]
     },
     "execution_count": 27,
     "metadata": {},
     "output_type": "execute_result"
    }
   ],
   "source": [
    "nn1.count_params()"
   ]
  },
  {
   "cell_type": "code",
   "execution_count": 30,
   "id": "4600c488-a901-4180-bb62-b026845c7846",
   "metadata": {},
   "outputs": [
    {
     "data": {
      "text/plain": [
       "2663168"
      ]
     },
     "execution_count": 30,
     "metadata": {},
     "output_type": "execute_result"
    }
   ],
   "source": [
    "nn10.count_params()"
   ]
  },
  {
   "cell_type": "code",
   "execution_count": null,
   "id": "c882cfab-f01b-4195-9aff-2a5d735ebf74",
   "metadata": {},
   "outputs": [],
   "source": []
  }
 ],
 "metadata": {
  "kernelspec": {
   "display_name": "Python 3 (ipykernel)",
   "language": "python",
   "name": "python3"
  },
  "language_info": {
   "codemirror_mode": {
    "name": "ipython",
    "version": 3
   },
   "file_extension": ".py",
   "mimetype": "text/x-python",
   "name": "python",
   "nbconvert_exporter": "python",
   "pygments_lexer": "ipython3",
   "version": "3.11.5"
  }
 },
 "nbformat": 4,
 "nbformat_minor": 5
}

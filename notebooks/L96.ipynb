{
 "cells": [
  {
   "cell_type": "code",
   "execution_count": 8,
   "id": "8ce9a599",
   "metadata": {},
   "outputs": [],
   "source": [
    "# load necessary modules\n",
    "import numpy as np \n",
    "from scipy.integrate import odeint\n",
    "import os, sys \n",
    "from pathlib import Path\n",
    "from os.path import dirname, realpath\n",
    "script_dir = Path(dirname(realpath('.')))\n",
    "module_dir = str(script_dir)\n",
    "sys.path.insert(0, module_dir + '/modules')\n",
    "import utility as ut\n",
    "import matplotlib.pyplot as plt\n",
    "from joblib import Parallel, delayed\n",
    "import time\n",
    "\n",
    "# L96 system\n",
    "def L96(u, F=10):\n",
    "    u_new = np.zeros_like(u)\n",
    "    for i in range(len(u)):\n",
    "        u_new[i] = (u[(i + 1) % len(u)] - u[i - 2]) * u[i - 1] - u[i] + F\n",
    "    return u_new\n",
    "\n",
    "# single trajectory generator for L96\n",
    "def generate_trajectory(state0, dt, n_steps):\n",
    "    return odeint(lambda x, t: L96(x), state0, np.arange(0, n_steps*dt, dt))\n",
    "\n",
    "# multiple trajectories generator for L96\n",
    "@ut.timer\n",
    "def generate_trajectories(num_trajectories, dim, dt, n_steps, save_folder, name):\n",
    "    if not os.path.exists(save_folder):\n",
    "        os.makedirs(save_folder)\n",
    "    trajectories = np.zeros((num_trajectories, dim, n_steps))\n",
    "\n",
    "    random_points =  np.random.normal(size=(num_trajectories, dim))\n",
    "    generate = lambda *args: generate_trajectory(*args)[-1]\n",
    "    states0 = Parallel(n_jobs=-1)(delayed(generate)(random_points[i], dt, int(1000/dt)) for i in range(num_trajectories))\n",
    "    results = Parallel(n_jobs=-1)(delayed(generate_trajectory)(state0, dt, n_steps) for state0 in states0)\n",
    "    for i in range(num_trajectories):\n",
    "        trajectories[i, :, :] = results[i].T \n",
    "    np.save('{}/{}.npy'.format(save_folder, name), trajectories)\n",
    "    return trajectories"
   ]
  },
  {
   "cell_type": "code",
   "execution_count": 3,
   "id": "8a1cbf29",
   "metadata": {},
   "outputs": [],
   "source": [
    "seed = 43\n",
    "np.random.seed(seed)\n",
    "save_folder='../data/L96-trajectories'\n",
    "dt = 0.01\n",
    "n_steps = 200000\n",
    "dim = 40\n",
    "# find a point on the attractor\n",
    "random_point =  np.random.normal(size=dim)\n",
    "attractor_point = generate_trajectory(random_point, dt, n_steps=200000)[-1]\n",
    "for i in [0, 1, 3, 7, 15]:\n",
    "    train = generate_trajectory(attractor_point, dt/(i+1), n_steps)\n",
    "    np.save('{}/{}.npy'.format(save_folder, f'train{i+1}'), train.T)"
   ]
  },
  {
   "cell_type": "code",
   "execution_count": 12,
   "id": "dab76226-8d78-42f4-8ddb-6b0b449f8a02",
   "metadata": {},
   "outputs": [
    {
     "name": "stdout",
     "output_type": "stream",
     "text": [
      "Time taken by generate_trajectories is 22.2492 seconds\n",
      "Time taken to generate test data = 22.25s\n"
     ]
    }
   ],
   "source": [
    "seed = 42\n",
    "np.random.seed(seed)\n",
    "num_trajectories = 1\n",
    "\n",
    "states0 = []\n",
    "start = time.time()\n",
    "u_test = generate_trajectories(num_trajectories, dim, dt, 800*500, save_folder, 'test')\n",
    "end = time.time()\n",
    "print(f\"Time taken to generate test data = {end-start:.2f}s\")"
   ]
  },
  {
   "cell_type": "code",
   "execution_count": 20,
   "id": "9691a47a-29b6-4cfd-97ff-9be09ba95301",
   "metadata": {},
   "outputs": [
    {
     "data": {
      "text/plain": [
       "(500, 40, 800)"
      ]
     },
     "execution_count": 20,
     "metadata": {},
     "output_type": "execute_result"
    }
   ],
   "source": [
    "test = (u_test[0].T).reshape(500, -1, 40)\n",
    "test = np.moveaxis(test, -1, -2)\n",
    "np.random.shuffle(test)\n",
    "np.save('{}/{}.npy'.format(save_folder, f'test'), test)\n",
    "test.shape"
   ]
  }
 ],
 "metadata": {
  "kernelspec": {
   "display_name": "Python 3 (ipykernel)",
   "language": "python",
   "name": "python3"
  },
  "language_info": {
   "codemirror_mode": {
    "name": "ipython",
    "version": 3
   },
   "file_extension": ".py",
   "mimetype": "text/x-python",
   "name": "python",
   "nbconvert_exporter": "python",
   "pygments_lexer": "ipython3",
   "version": "3.11.5"
  }
 },
 "nbformat": 4,
 "nbformat_minor": 5
}

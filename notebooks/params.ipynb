{
 "cells": [
  {
   "cell_type": "code",
   "execution_count": 1,
   "id": "1fccfac3-a68e-4f17-b3f4-42a1d2bfe81c",
   "metadata": {},
   "outputs": [],
   "source": [
    "import os, sys \n",
    "from pathlib import Path\n",
    "from os.path import dirname, realpath\n",
    "script_dir = Path(dirname(realpath('.')))\n",
    "module_dir = str(script_dir)\n",
    "sys.path.insert(0, module_dir + '/modules')\n",
    "import numpy as np\n",
    "import utility as ut\n",
    "import matplotlib.pyplot as plt\n",
    "import pandas as pd\n",
    "import warnings\n",
    "from scipy import stats\n",
    "import seaborn as sns\n",
    "import eulerN as arch \n",
    "import torch\n",
    "from torch import nn\n",
    "import count_params as cp\n",
    "import itertools"
   ]
  },
  {
   "cell_type": "code",
   "execution_count": 43,
   "id": "d34c71db-ceef-4867-87cf-ccbd58785e85",
   "metadata": {},
   "outputs": [
    {
     "data": {
      "text/plain": [
       "Text(0.5, 1.0, 'L96 - $\\\\log_{10}(\\\\text{#params})$')"
      ]
     },
     "execution_count": 43,
     "metadata": {},
     "output_type": "execute_result"
    },
    {
     "data": {
      "image/png": "[encoded data removed]",
      "text/plain": [
       "<Figure size 500x500 with 1 Axes>"
      ]
     },
     "metadata": {},
     "output_type": "display_data"
    }
   ],
   "source": [
    "dim = 40\n",
    "vlachas_L96 = {'RC': [cp.rc(dim, h) for h in [6000, 9000, 12000, 18000]],\\\n",
    "               'GRU': [cp.gru(dim, *hl) for hl in itertools.product([500, 1000, 1500], [1, 2, 3])],\\\n",
    "               'LSTM': [cp.lstm(dim, *hl) for hl in itertools.product([500, 1000, 1500], [1, 2, 3])]}\n",
    "\n",
    "us_L96 = [cp.rfm(dim, h) for h in [512, 1024, 2048, 4096, 8192]]\n",
    "\n",
    "fig = plt.figure(figsize=(5, 5))\n",
    "ax = fig.add_subplot(111)\n",
    "ax.bar(np.arange(4)-5, np.log10(vlachas_L96['RC']), label=[6000, 9000, 12000, 18000])\n",
    "# ax.bar_label('RC', padding=3)\n",
    "ax.bar(np.arange(9), np.log10(vlachas_L96['GRU']))\n",
    "ax.bar(np.arange(9)+10, np.log10(vlachas_L96['LSTM']))\n",
    "rects = ax.bar(np.arange(5)+20, np.log10(us_L96))\n",
    "# ax.bar_label()\n",
    "ax.set_xticks([-3.5, 4, 14, 22], list(vlachas_L96.keys()) + ['Euler'])\n",
    "ax.set_title(r'L96 - $\\log_{10}(\\text{#params})$')\n",
    "# ax.legend(loc='upper left', ncols=3)\n",
    "# plt.savefig('../data/plots/params.png', bbox_inches=\"tight\", dpi=300)"
   ]
  },
  {
   "cell_type": "code",
   "execution_count": null,
   "id": "4b625746-e834-4c38-9c14-f953ee3909d2",
   "metadata": {},
   "outputs": [],
   "source": []
  }
 ],
 "metadata": {
  "kernelspec": {
   "display_name": "Python 3 (ipykernel)",
   "language": "python",
   "name": "python3"
  },
  "language_info": {
   "codemirror_mode": {
    "name": "ipython",
    "version": 3
   },
   "file_extension": ".py",
   "mimetype": "text/x-python",
   "name": "python",
   "nbconvert_exporter": "python",
   "pygments_lexer": "ipython3",
   "version": "3.11.5"
  }
 },
 "nbformat": 4,
 "nbformat_minor": 5
}
